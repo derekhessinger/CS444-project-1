{
 "cells": [
  {
   "cell_type": "markdown",
   "id": "c90dac",
   "metadata": {
    "collapsed": false
   },
   "source": [
    "**YOUR NAMES HERE**\n",
    "\n",
    "Spring 2025\n",
    "\n",
    "CS 444: Deep Learning\n",
    "\n",
    "Project 1: Deep Neural Networks \n",
    "\n",
    "#### Week 3: Strategies for training deeper networks\n",
    "\n",
    "The focus this week is on strategies for training deeper neural networks. We will touch on:\n",
    "1. Improved weight initialization techniques.\n",
    "2. Using dropout.\n",
    "3. Using regularization."
   ]
  },
  {
   "cell_type": "code",
   "execution_count": 3,
   "id": "aae071",
   "metadata": {
    "collapsed": false
   },
   "outputs": [],
   "source": [
    "import numpy as np\n",
    "import tensorflow as tf\n",
    "import matplotlib.pyplot as plt\n",
    "\n",
    "plt.style.use(['seaborn-v0_8-colorblind', 'seaborn-v0_8-darkgrid'])\n",
    "plt.rcParams.update({'font.size': 20})\n",
    "\n",
    "np.set_printoptions(suppress=True, precision=3)\n",
    "\n",
    "# Automatically reload your external source code\n",
    "%load_ext autoreload\n",
    "%autoreload 2"
   ]
  },
  {
   "cell_type": "markdown",
   "id": "edcd3f",
   "metadata": {
    "collapsed": false
   },
   "source": [
    "### 6c. Add support for He/Kaiming initialization\n",
    "\n",
    "Continuing on with our goal of improving our training workflow, let's implement He/Kaiming initialization weight initialization in layers that contain weights (`'he'` method). We want to maintain support for the current way weights are initialized (`'normal'` method) so that we can switch between the method used to initialize the weights. In summary, the process involves a) adding support for `'he'` weight initialization in layers with weights and b) adding keyword arguments to allow switching between the weight initialization methods.\n",
    "\n",
    "Here are the changes to make:\n",
    "1. In `Layer`, implement `get_kaiming_gain` to get the activation function dependent Kaiming gain $\\kappa$.\n",
    "2. If you have not already done so, add instance vars for the  `wt_init` parameter in:\n",
    "   1. `Dense` constructor\n",
    "   2. `Conv2D` constructor\n",
    "   3. `VGG4` constructor\n",
    "   4. `VGGConvBlock` constructor\n",
    "   5. `VGGDenseBlock` constructor\n",
    "   6. `VGG6` constructor\n",
    "3. In the following places, initialize the weights and bias in the way you are currently are if using the `'normal'` the weight initialization method (*the default in all layers so far*). Otherwise, use He/Kaiming:\n",
    "   1. `Dense` `init_params`\n",
    "   2. `Conv2D` `init_params`\n",
    "4. Make sure you are passing the `wt_init` parameter setting along when making layers/blocks in the following places:\n",
    "   1. `VGGConvBlock`\n",
    "   2. `VGGDenseBlock`\n",
    "   3. `VGG4`\n",
    "   4. `VGG6`"
   ]
  },
  {
   "cell_type": "code",
   "execution_count": 4,
   "id": "22a4c9",
   "metadata": {
    "collapsed": false
   },
   "outputs": [],
   "source": [
    "from layers import Dense, Conv2D\n",
    "from block import VGGConvBlock, VGGDenseBlock\n",
    "from vgg_nets import VGG4, VGG6"
   ]
  },
  {
   "cell_type": "markdown",
   "id": "04bae0",
   "metadata": {
    "collapsed": false
   },
   "source": [
    "#### Test `Dense`\n",
    "\n",
    "Also re-run previous tests in the `build_deeplib` notebook to make sure adding support for He/Kaiming initialization does not affect `'normal'` initialzation."
   ]
  },
  {
   "cell_type": "code",
   "execution_count": 3,
   "id": "613c04",
   "metadata": {
    "collapsed": false
   },
   "outputs": [
    {
     "name": "stderr",
     "output_type": "stream",
     "text": [
      "2025-02-24 17:56:19.901761: I tensorflow/core/common_runtime/gpu/gpu_device.cc:1928] Created device /job:localhost/replica:0/task:0/device:GPU:0 with 20601 MB memory:  -> device: 0, name: NVIDIA L4, pci bus id: 0000:00:03.0, compute capability: 8.9\n"
     ]
    },
    {
     "name": "stdout",
     "output_type": "stream",
     "text": [
      "Your wts are\n",
      "[[ 1.068  0.299 -0.297]\n",
      " [-0.733 -0.875  0.333]\n",
      " [-0.01   0.841  0.426]\n",
      " [ 0.424 -0.499 -0.306]] and should be\n",
      "[[ 1.068  0.299 -0.297]\n",
      " [-0.733 -0.875  0.333]\n",
      " [-0.01   0.841  0.426]\n",
      " [ 0.424 -0.499 -0.306]]\n",
      "Your biases are\n",
      "[0. 0. 0.] and should be\n",
      "[0. 0. 0.]\n"
     ]
    }
   ],
   "source": [
    "tf.random.set_seed(0)\n",
    "d = Dense('Test', units=3, wt_init='he')\n",
    "d(tf.ones([2, 4]))\n",
    "print(f'Your wts are\\n{d.get_wts().numpy()} and should be')\n",
    "print('''[[ 1.068  0.299 -0.297]\n",
    " [-0.733 -0.875  0.333]\n",
    " [-0.01   0.841  0.426]\n",
    " [ 0.424 -0.499 -0.306]]''')\n",
    "print(f'Your biases are\\n{d.get_b().numpy()} and should be')\n",
    "print('[0. 0. 0.]')"
   ]
  },
  {
   "cell_type": "markdown",
   "id": "eb5693",
   "metadata": {
    "collapsed": false
   },
   "source": [
    "#### Test `Conv2D`\n",
    "\n",
    "Also re-run previous tests in the `build_deeplib` notebook to make sure adding support for He/Kaiming initialization does not affect `'normal'` initialzation."
   ]
  },
  {
   "cell_type": "code",
   "execution_count": 4,
   "id": "e4f015",
   "metadata": {
    "collapsed": false
   },
   "outputs": [
    {
     "name": "stderr",
     "output_type": "stream",
     "text": [
      "2025-02-24 17:56:24.270595: I external/local_xla/xla/stream_executor/cuda/cuda_dnn.cc:465] Loaded cuDNN version 90400\n"
     ]
    },
    {
     "name": "stdout",
     "output_type": "stream",
     "text": [
      "Your wts are\n",
      "[[[[ 0.756  0.211 -0.21 ]\n",
      "   [-0.518 -0.618  0.235]]\n",
      "\n",
      "  [[-0.007  0.594  0.301]\n",
      "   [ 0.3   -0.353 -0.216]]]\n",
      "\n",
      "\n",
      " [[[ 0.397 -0.349 -0.48 ]\n",
      "   [-0.45  -0.18  -0.112]]\n",
      "\n",
      "  [[ 0.152  0.261  0.078]\n",
      "   [ 0.794 -0.398  0.039]]]] and should be\n",
      "[[[[ 0.756  0.211 -0.21 ]\n",
      "   [-0.518 -0.618  0.235]]\n",
      "\n",
      "  [[-0.007  0.594  0.301]\n",
      "   [ 0.3   -0.353 -0.216]]]\n",
      "\n",
      "\n",
      " [[[ 0.397 -0.349 -0.48 ]\n",
      "   [-0.45  -0.18  -0.112]]\n",
      "\n",
      "  [[ 0.152  0.261  0.078]\n",
      "   [ 0.794 -0.398  0.039]]]]\n",
      "Your biases are\n",
      "[0. 0. 0.] and should be\n",
      "[0. 0. 0.]\n"
     ]
    }
   ],
   "source": [
    "tf.random.set_seed(0)\n",
    "c = Conv2D('Test', units=3, wt_init='he', kernel_size=(2,2))\n",
    "c(tf.ones([1, 6, 6, 2]))\n",
    "print(f'Your wts are\\n{c.get_wts().numpy()} and should be')\n",
    "print('''[[[[ 0.756  0.211 -0.21 ]\n",
    "   [-0.518 -0.618  0.235]]\n",
    "\n",
    "  [[-0.007  0.594  0.301]\n",
    "   [ 0.3   -0.353 -0.216]]]\n",
    "\n",
    "\n",
    " [[[ 0.397 -0.349 -0.48 ]\n",
    "   [-0.45  -0.18  -0.112]]\n",
    "\n",
    "  [[ 0.152  0.261  0.078]\n",
    "   [ 0.794 -0.398  0.039]]]]''')\n",
    "print(f'Your biases are\\n{c.get_b().numpy()} and should be')\n",
    "print('[0. 0. 0.]')"
   ]
  },
  {
   "cell_type": "markdown",
   "id": "8157ce",
   "metadata": {
    "collapsed": false
   },
   "source": [
    "#### Test `VGGConvBlock`"
   ]
  },
  {
   "cell_type": "code",
   "execution_count": 5,
   "id": "f145b7",
   "metadata": {
    "collapsed": false
   },
   "outputs": [
    {
     "name": "stdout",
     "output_type": "stream",
     "text": [
      "Your net_acts are\n",
      "[[[[0.539 0.798 0.174]\n",
      "   [1.075 0.599 0.   ]\n",
      "   [0.713 0.7   0.   ]]\n",
      "\n",
      "  [[0.497 1.139 0.191]\n",
      "   [0.826 1.057 0.075]\n",
      "   [0.506 1.095 0.   ]]\n",
      "\n",
      "  [[0.358 0.638 0.168]\n",
      "   [0.547 0.29  0.189]\n",
      "   [0.726 0.337 0.111]]]] and should be\n",
      "[[[[0.539 0.798 0.174]\n",
      "   [1.075 0.599 0.   ]\n",
      "   [0.713 0.7   0.   ]]\n",
      "\n",
      "  [[0.497 1.139 0.191]\n",
      "   [0.826 1.057 0.075]\n",
      "   [0.506 1.095 0.   ]]\n",
      "\n",
      "  [[0.358 0.638 0.168]\n",
      "   [0.547 0.29  0.189]\n",
      "   [0.726 0.337 0.111]]]]\n"
     ]
    }
   ],
   "source": [
    "tf.random.set_seed(0)\n",
    "v = VGGConvBlock('Test', units=3, wt_init='he', prev_layer_or_block=None)\n",
    "tf.random.set_seed(1)\n",
    "net_acts = v(tf.random.uniform([1, 6, 6, 2]))\n",
    "\n",
    "print(f'Your net_acts are\\n{net_acts.numpy()} and should be')\n",
    "print('''[[[[0.539 0.798 0.174]\n",
    "   [1.075 0.599 0.   ]\n",
    "   [0.713 0.7   0.   ]]\n",
    "\n",
    "  [[0.497 1.139 0.191]\n",
    "   [0.826 1.057 0.075]\n",
    "   [0.506 1.095 0.   ]]\n",
    "\n",
    "  [[0.358 0.638 0.168]\n",
    "   [0.547 0.29  0.189]\n",
    "   [0.726 0.337 0.111]]]]''')"
   ]
  },
  {
   "cell_type": "markdown",
   "id": "9e79b4",
   "metadata": {
    "collapsed": false
   },
   "source": [
    "#### Test `VGGDenseBlock`"
   ]
  },
  {
   "cell_type": "code",
   "execution_count": 6,
   "id": "fbccf1",
   "metadata": {
    "collapsed": false
   },
   "outputs": [
    {
     "name": "stdout",
     "output_type": "stream",
     "text": [
      "Your net_acts are\n",
      "[[0.565 0.    0.   ]] and should be\n",
      "[[0.565 0.    0.   ]] \n"
     ]
    }
   ],
   "source": [
    "tf.random.set_seed(0)\n",
    "v = VGGDenseBlock('Test', units=(3,), wt_init='he', prev_layer_or_block=None)\n",
    "tf.random.set_seed(1)\n",
    "net_acts = v(tf.random.uniform([1, 4]))\n",
    "\n",
    "print(f'Your net_acts are\\n{net_acts.numpy()} and should be')\n",
    "print('''[[0.565 0.    0.   ]] ''')"
   ]
  },
  {
   "cell_type": "markdown",
   "id": "26dab2",
   "metadata": {
    "collapsed": false
   },
   "source": [
    "#### Test `VGG4`"
   ]
  },
  {
   "cell_type": "code",
   "execution_count": 7,
   "id": "63a36e",
   "metadata": {
    "collapsed": false
   },
   "outputs": [
    {
     "name": "stdout",
     "output_type": "stream",
     "text": [
      "Your net_acts are\n",
      "[[0.369 0.382 0.249]\n",
      " [0.37  0.351 0.28 ]] and should be\n",
      "[[0.369 0.382 0.249]\n",
      " [0.37  0.351 0.28 ]]\n"
     ]
    }
   ],
   "source": [
    "tf.random.set_seed(0)\n",
    "v = VGG4(C=3, input_feats_shape=(10, 10, 5), wt_init='he')\n",
    "tf.random.set_seed(1)\n",
    "net_acts = v(tf.random.uniform([2, 10, 10, 5]))\n",
    "\n",
    "print(f'Your net_acts are\\n{net_acts.numpy()} and should be')\n",
    "print('''[[0.369 0.382 0.249]\n",
    " [0.37  0.351 0.28 ]]''')"
   ]
  },
  {
   "cell_type": "markdown",
   "id": "57a03e",
   "metadata": {
    "collapsed": false
   },
   "source": [
    "#### Test `VGG6`"
   ]
  },
  {
   "cell_type": "code",
   "execution_count": 8,
   "id": "65fc27",
   "metadata": {
    "collapsed": false
   },
   "outputs": [
    {
     "name": "stdout",
     "output_type": "stream",
     "text": [
      "Your net_acts are\n",
      "[[0.228 0.107 0.589 0.075]] and should be\n",
      "[[0.228 0.107 0.589 0.075]]\n"
     ]
    }
   ],
   "source": [
    "tf.random.set_seed(0)\n",
    "v = VGG4(C=4, input_feats_shape=(12, 12, 4), wt_init='he')\n",
    "tf.random.set_seed(1)\n",
    "net_acts = v(tf.random.uniform([1, 12, 12, 4]))\n",
    "\n",
    "print(f'Your net_acts are\\n{net_acts.numpy()} and should be')\n",
    "print('''[[0.228 0.107 0.589 0.075]]''')"
   ]
  },
  {
   "cell_type": "markdown",
   "id": "19b2a7",
   "metadata": {
    "collapsed": false
   },
   "source": [
    "### 6d. Compare training VGG6 with Normal and He initialization with early stopping\n",
    "\n",
    "Let's use VGG6 to test how He initialization and early stopping affects training with CIFAR-10. In the cell below, conduct an experiment wherein you train VGG6 repeatedly 6 times will different combinations of the following: \n",
    "- patience `[3, 4, 5]`\n",
    "- Normal vs He\n",
    "\n",
    "After training each net, store/record:\n",
    "1. the network's final test accuracy.\n",
    "2. the number of epochs spent training.\n",
    "3. the history of training loss (averaged across mini-batches, so one per epoch).\n",
    "4. the history of validation loss (checked every epoch).\n",
    "5. the history of validation accuracy (checked every epoch).\n",
    "\n",
    "**Notes:**\n",
    "- Set random seed before creating each net for consistency.\n",
    "- Use `tf.keras.backend.clear_session()` before creating each of the networks to help prevent the memory used from growing.\n",
    "- Some networks may stop very quickly — that is ok and expected!\n",
    "\n",
    "This experiment is expected to take 30-60 mins to complete."
   ]
  },
  {
   "cell_type": "code",
   "execution_count": 2,
   "id": "e088e8",
   "metadata": {
    "collapsed": false
   },
   "outputs": [
    {
     "name": "stderr",
     "output_type": "stream",
     "text": [
      "2025-02-25 17:21:31.091723: I tensorflow/core/common_runtime/gpu/gpu_device.cc:1928] Created device /job:localhost/replica:0/task:0/device:GPU:0 with 20601 MB memory:  -> device: 0, name: NVIDIA L4, pci bus id: 0000:00:03.0, compute capability: 8.9\n"
     ]
    }
   ],
   "source": [
    "import datasets\n",
    "\n",
    "# load in data\n",
    "x_train, y_train, x_val, y_val, x_test, y_test, classnames = datasets.get_dataset('cifar10', val_prop=0.2)"
   ]
  },
  {
   "cell_type": "markdown",
   "id": "c34705",
   "metadata": {
    "collapsed": false
   },
   "source": [
    "Use the function below to plot:\n",
    "1. The training loss history.\n",
    "2. The val loss history.\n",
    "3. The val acc history.\n",
    "\n",
    "Afterwards print the test accuracy for each network along wth the number of actual training epochs."
   ]
  },
  {
   "cell_type": "code",
   "execution_count": 5,
   "id": "b91783",
   "metadata": {
    "collapsed": false
   },
   "outputs": [
    {
     "name": "stdout",
     "output_type": "stream",
     "text": [
      "\n",
      "============================================================\n",
      "Training VGG6 with patience=3 and normal initialization\n",
      "============================================================\n"
     ]
    },
    {
     "name": "stderr",
     "output_type": "stream",
     "text": [
      "2025-02-25 17:25:07.711392: I external/local_xla/xla/stream_executor/cuda/cuda_dnn.cc:465] Loaded cuDNN version 90400\n"
     ]
    },
    {
     "name": "stdout",
     "output_type": "stream",
     "text": [
      "---------------------------------------------------------------------------\n",
      "Dense layer output(output) shape: [1, 10]\n",
      "dense_block:\n",
      "\tDropout layer output(dense_block/dropout_layer_0) shape: [1, 256]\n",
      "\tDense layer output(dense_block/dense_layer_0) shape: [1, 256]\n",
      "Flatten layer output(flatten) shape: [1, 8192]\n",
      "conv_block_2:\n",
      "\tMaxPool2D layer output(conv_block_2/max_pool_layer_1) shape: [1, 8, 8, 128]\n",
      "\tConv2D layer output(conv_block_2/conv_layer_1) shape: [1, 16, 16, 128]\n",
      "\tConv2D layer output(conv_block_2/conv_layer_0) shape: [1, 16, 16, 128]\n",
      "conv_block_1:\n",
      "\tMaxPool2D layer output(conv_block_1/max_pool_layer_1) shape: [1, 16, 16, 64]\n",
      "\tConv2D layer output(conv_block_1/conv_layer_1) shape: [1, 32, 32, 64]\n",
      "\tConv2D layer output(conv_block_1/conv_layer_0) shape: [1, 32, 32, 64]\n",
      "---------------------------------------------------------------------------\n",
      "Starting training with patience=3...\n"
     ]
    },
    {
     "name": "stderr",
     "output_type": "stream",
     "text": [
      "WARNING: All log messages before absl::InitializeLog() is called are written to STDERR\n",
      "I0000 00:00:1740504321.771782     586 service.cc:145] XLA service 0x7a5f1b18bc70 initialized for platform CUDA (this does not guarantee that XLA will be used). Devices:\n",
      "I0000 00:00:1740504321.771838     586 service.cc:153]   StreamExecutor device (0): NVIDIA L4, Compute Capability 8.9\n"
     ]
    },
    {
     "name": "stderr",
     "output_type": "stream",
     "text": [
      "2025-02-25 17:25:22.010627: I tensorflow/compiler/mlir/tensorflow/utils/dump_mlir_util.cc:268] disabling MLIR crash reproducer, set env var `MLIR_CRASH_REPRODUCER_DIRECTORY` to enable.\n"
     ]
    },
    {
     "name": "stderr",
     "output_type": "stream",
     "text": [
      "I0000 00:00:1740504322.859078     586 device_compiler.h:188] Compiled cluster using XLA!  This line is logged at most once for the lifetime of the process.\n"
     ]
    },
    {
     "name": "stdout",
     "output_type": "stream",
     "text": [
      "Epoch 1/10000: Train Loss: 2.0366, Val Loss: 1.6634, Val Acc: 0.3970, Time: 17.73s\n"
     ]
    },
    {
     "name": "stdout",
     "output_type": "stream",
     "text": [
      "Epoch 2/10000: Train Loss: 1.5735, Val Loss: 1.3981, Val Acc: 0.4941, Time: 3.16s\n"
     ]
    },
    {
     "name": "stdout",
     "output_type": "stream",
     "text": [
      "Epoch 3/10000: Train Loss: 1.3644, Val Loss: 1.2304, Val Acc: 0.5641, Time: 3.18s\n"
     ]
    },
    {
     "name": "stdout",
     "output_type": "stream",
     "text": [
      "Epoch 4/10000: Train Loss: 1.1986, Val Loss: 1.0987, Val Acc: 0.6100, Time: 3.21s\n"
     ]
    },
    {
     "name": "stdout",
     "output_type": "stream",
     "text": [
      "Epoch 5/10000: Train Loss: 1.0744, Val Loss: 1.0060, Val Acc: 0.6471, Time: 3.19s\n"
     ]
    },
    {
     "name": "stdout",
     "output_type": "stream",
     "text": [
      "Epoch 6/10000: Train Loss: 0.9917, Val Loss: 0.9591, Val Acc: 0.6635, Time: 3.20s\n"
     ]
    },
    {
     "name": "stdout",
     "output_type": "stream",
     "text": [
      "Epoch 7/10000: Train Loss: 0.9161, Val Loss: 0.9088, Val Acc: 0.6830, Time: 3.19s\n"
     ]
    },
    {
     "name": "stdout",
     "output_type": "stream",
     "text": [
      "Epoch 8/10000: Train Loss: 0.8526, Val Loss: 0.8819, Val Acc: 0.6937, Time: 3.20s\n"
     ]
    },
    {
     "name": "stdout",
     "output_type": "stream",
     "text": [
      "Epoch 9/10000: Train Loss: 0.7958, Val Loss: 0.8789, Val Acc: 0.6940, Time: 3.21s\n"
     ]
    },
    {
     "name": "stdout",
     "output_type": "stream",
     "text": [
      "Epoch 10/10000: Train Loss: 0.7454, Val Loss: 0.8557, Val Acc: 0.7091, Time: 3.21s\n"
     ]
    },
    {
     "name": "stdout",
     "output_type": "stream",
     "text": [
      "Epoch 11/10000: Train Loss: 0.7074, Val Loss: 0.8402, Val Acc: 0.7158, Time: 3.21s\n"
     ]
    },
    {
     "name": "stdout",
     "output_type": "stream",
     "text": [
      "Epoch 12/10000: Train Loss: 0.6770, Val Loss: 0.8332, Val Acc: 0.7188, Time: 3.20s\n"
     ]
    },
    {
     "name": "stdout",
     "output_type": "stream",
     "text": [
      "Epoch 13/10000: Train Loss: 0.6357, Val Loss: 0.8344, Val Acc: 0.7256, Time: 3.21s\n"
     ]
    },
    {
     "name": "stdout",
     "output_type": "stream",
     "text": [
      "Epoch 14/10000: Train Loss: 0.5940, Val Loss: 0.8263, Val Acc: 0.7253, Time: 3.23s\n"
     ]
    },
    {
     "name": "stdout",
     "output_type": "stream",
     "text": [
      "Epoch 15/10000: Train Loss: 0.5781, Val Loss: 0.8555, Val Acc: 0.7268, Time: 3.22s\n"
     ]
    },
    {
     "name": "stdout",
     "output_type": "stream",
     "text": [
      "Epoch 16/10000: Train Loss: 0.5459, Val Loss: 0.8856, Val Acc: 0.7201, Time: 3.21s\n",
      "Finished training after 16 epochs!\n"
     ]
    },
    {
     "name": "stdout",
     "output_type": "stream",
     "text": [
      "\n",
      "Training completed for VGG6 with patience=3 and normal initialization\n",
      "Number of epochs trained: 16\n",
      "Final test accuracy: 0.7152\n",
      "Final training loss: 0.5459\n",
      "Final validation loss: 0.8856\n",
      "Final validation accuracy: 0.7201\n",
      "Clearing session to free memory...\n",
      "\n",
      "============================================================\n",
      "Training VGG6 with patience=3 and he initialization\n",
      "============================================================\n",
      "---------------------------------------------------------------------------\n",
      "Dense layer output(output) shape: [1, 10]\n",
      "dense_block:\n",
      "\tDropout layer output(dense_block/dropout_layer_0) shape: [1, 256]\n",
      "\tDense layer output(dense_block/dense_layer_0) shape: [1, 256]\n",
      "Flatten layer output(flatten) shape: [1, 8192]\n",
      "conv_block_2:\n",
      "\tMaxPool2D layer output(conv_block_2/max_pool_layer_1) shape: [1, 8, 8, 128]\n",
      "\tConv2D layer output(conv_block_2/conv_layer_1) shape: [1, 16, 16, 128]\n",
      "\tConv2D layer output(conv_block_2/conv_layer_0) shape: [1, 16, 16, 128]\n",
      "conv_block_1:\n",
      "\tMaxPool2D layer output(conv_block_1/max_pool_layer_1) shape: [1, 16, 16, 64]\n",
      "\tConv2D layer output(conv_block_1/conv_layer_1) shape: [1, 32, 32, 64]\n",
      "\tConv2D layer output(conv_block_1/conv_layer_0) shape: [1, 32, 32, 64]\n",
      "---------------------------------------------------------------------------\n",
      "Starting training with patience=3...\n"
     ]
    },
    {
     "name": "stdout",
     "output_type": "stream",
     "text": [
      "Epoch 1/10000: Train Loss: 1.6568, Val Loss: 1.2455, Val Acc: 0.5607, Time: 5.70s\n"
     ]
    },
    {
     "name": "stdout",
     "output_type": "stream",
     "text": [
      "Epoch 2/10000: Train Loss: 1.1475, Val Loss: 1.0051, Val Acc: 0.6514, Time: 3.26s\n"
     ]
    },
    {
     "name": "stdout",
     "output_type": "stream",
     "text": [
      "Epoch 3/10000: Train Loss: 0.9064, Val Loss: 0.8776, Val Acc: 0.7020, Time: 3.25s\n"
     ]
    },
    {
     "name": "stdout",
     "output_type": "stream",
     "text": [
      "Epoch 4/10000: Train Loss: 0.7546, Val Loss: 0.8519, Val Acc: 0.7121, Time: 3.25s\n"
     ]
    },
    {
     "name": "stdout",
     "output_type": "stream",
     "text": [
      "Epoch 5/10000: Train Loss: 0.6441, Val Loss: 0.8085, Val Acc: 0.7247, Time: 3.26s\n"
     ]
    },
    {
     "name": "stdout",
     "output_type": "stream",
     "text": [
      "Epoch 6/10000: Train Loss: 0.5576, Val Loss: 0.8400, Val Acc: 0.7226, Time: 3.25s\n"
     ]
    },
    {
     "name": "stdout",
     "output_type": "stream",
     "text": [
      "Epoch 7/10000: Train Loss: 0.4781, Val Loss: 0.8016, Val Acc: 0.7507, Time: 3.26s\n"
     ]
    },
    {
     "name": "stdout",
     "output_type": "stream",
     "text": [
      "Epoch 8/10000: Train Loss: 0.3998, Val Loss: 0.8451, Val Acc: 0.7422, Time: 3.25s\n"
     ]
    },
    {
     "name": "stdout",
     "output_type": "stream",
     "text": [
      "Epoch 9/10000: Train Loss: 0.3484, Val Loss: 0.8350, Val Acc: 0.7559, Time: 3.25s\n",
      "Finished training after 9 epochs!\n"
     ]
    },
    {
     "name": "stdout",
     "output_type": "stream",
     "text": [
      "\n",
      "Training completed for VGG6 with patience=3 and he initialization\n",
      "Number of epochs trained: 9\n",
      "Final test accuracy: 0.7453\n",
      "Final training loss: 0.3484\n",
      "Final validation loss: 0.8350\n",
      "Final validation accuracy: 0.7559\n",
      "Clearing session to free memory...\n",
      "\n",
      "============================================================\n",
      "Training VGG6 with patience=4 and normal initialization\n",
      "============================================================\n",
      "---------------------------------------------------------------------------\n",
      "Dense layer output(output) shape: [1, 10]\n",
      "dense_block:\n",
      "\tDropout layer output(dense_block/dropout_layer_0) shape: [1, 256]\n",
      "\tDense layer output(dense_block/dense_layer_0) shape: [1, 256]\n",
      "Flatten layer output(flatten) shape: [1, 8192]\n",
      "conv_block_2:\n",
      "\tMaxPool2D layer output(conv_block_2/max_pool_layer_1) shape: [1, 8, 8, 128]\n",
      "\tConv2D layer output(conv_block_2/conv_layer_1) shape: [1, 16, 16, 128]\n",
      "\tConv2D layer output(conv_block_2/conv_layer_0) shape: [1, 16, 16, 128]\n",
      "conv_block_1:\n",
      "\tMaxPool2D layer output(conv_block_1/max_pool_layer_1) shape: [1, 16, 16, 64]\n",
      "\tConv2D layer output(conv_block_1/conv_layer_1) shape: [1, 32, 32, 64]\n",
      "\tConv2D layer output(conv_block_1/conv_layer_0) shape: [1, 32, 32, 64]\n",
      "---------------------------------------------------------------------------\n",
      "Starting training with patience=4...\n"
     ]
    },
    {
     "name": "stdout",
     "output_type": "stream",
     "text": [
      "Epoch 1/10000: Train Loss: 2.0499, Val Loss: 1.7696, Val Acc: 0.3386, Time: 5.85s\n"
     ]
    },
    {
     "name": "stdout",
     "output_type": "stream",
     "text": [
      "Epoch 2/10000: Train Loss: 1.6457, Val Loss: 1.4734, Val Acc: 0.4619, Time: 3.21s\n"
     ]
    },
    {
     "name": "stdout",
     "output_type": "stream",
     "text": [
      "Epoch 3/10000: Train Loss: 1.4557, Val Loss: 1.3246, Val Acc: 0.5238, Time: 3.22s\n"
     ]
    },
    {
     "name": "stdout",
     "output_type": "stream",
     "text": [
      "Epoch 4/10000: Train Loss: 1.3144, Val Loss: 1.1721, Val Acc: 0.5757, Time: 3.20s\n"
     ]
    },
    {
     "name": "stdout",
     "output_type": "stream",
     "text": [
      "Epoch 5/10000: Train Loss: 1.1803, Val Loss: 1.0938, Val Acc: 0.6074, Time: 3.23s\n"
     ]
    },
    {
     "name": "stdout",
     "output_type": "stream",
     "text": [
      "Epoch 6/10000: Train Loss: 1.0733, Val Loss: 0.9983, Val Acc: 0.6444, Time: 3.22s\n"
     ]
    },
    {
     "name": "stdout",
     "output_type": "stream",
     "text": [
      "Epoch 7/10000: Train Loss: 0.9868, Val Loss: 0.9544, Val Acc: 0.6631, Time: 3.21s\n"
     ]
    },
    {
     "name": "stdout",
     "output_type": "stream",
     "text": [
      "Epoch 8/10000: Train Loss: 0.9184, Val Loss: 0.9248, Val Acc: 0.6783, Time: 3.20s\n"
     ]
    },
    {
     "name": "stdout",
     "output_type": "stream",
     "text": [
      "Epoch 9/10000: Train Loss: 0.8513, Val Loss: 0.8770, Val Acc: 0.6904, Time: 3.20s\n"
     ]
    },
    {
     "name": "stdout",
     "output_type": "stream",
     "text": [
      "Epoch 10/10000: Train Loss: 0.8113, Val Loss: 0.8686, Val Acc: 0.7018, Time: 3.22s\n"
     ]
    },
    {
     "name": "stdout",
     "output_type": "stream",
     "text": [
      "Epoch 11/10000: Train Loss: 0.7637, Val Loss: 0.8679, Val Acc: 0.7022, Time: 3.21s\n"
     ]
    },
    {
     "name": "stdout",
     "output_type": "stream",
     "text": [
      "Epoch 12/10000: Train Loss: 0.7409, Val Loss: 0.8464, Val Acc: 0.7114, Time: 3.21s\n"
     ]
    },
    {
     "name": "stdout",
     "output_type": "stream",
     "text": [
      "Epoch 13/10000: Train Loss: 0.7075, Val Loss: 0.8309, Val Acc: 0.7203, Time: 3.20s\n"
     ]
    },
    {
     "name": "stdout",
     "output_type": "stream",
     "text": [
      "Epoch 14/10000: Train Loss: 0.6678, Val Loss: 0.8223, Val Acc: 0.7175, Time: 3.20s\n"
     ]
    },
    {
     "name": "stdout",
     "output_type": "stream",
     "text": [
      "Epoch 15/10000: Train Loss: 0.6475, Val Loss: 0.8648, Val Acc: 0.7165, Time: 3.20s\n"
     ]
    },
    {
     "name": "stdout",
     "output_type": "stream",
     "text": [
      "Epoch 16/10000: Train Loss: 0.6260, Val Loss: 0.8560, Val Acc: 0.7228, Time: 3.20s\n"
     ]
    },
    {
     "name": "stdout",
     "output_type": "stream",
     "text": [
      "Epoch 17/10000: Train Loss: 0.5958, Val Loss: 0.8287, Val Acc: 0.7299, Time: 3.20s\n",
      "Finished training after 17 epochs!\n"
     ]
    },
    {
     "name": "stdout",
     "output_type": "stream",
     "text": [
      "\n",
      "Training completed for VGG6 with patience=4 and normal initialization\n",
      "Number of epochs trained: 17\n",
      "Final test accuracy: 0.7170\n",
      "Final training loss: 0.5958\n",
      "Final validation loss: 0.8287\n",
      "Final validation accuracy: 0.7299\n",
      "Clearing session to free memory...\n",
      "\n",
      "============================================================\n",
      "Training VGG6 with patience=4 and he initialization\n",
      "============================================================\n",
      "---------------------------------------------------------------------------\n",
      "Dense layer output(output) shape: [1, 10]\n",
      "dense_block:\n",
      "\tDropout layer output(dense_block/dropout_layer_0) shape: [1, 256]\n",
      "\tDense layer output(dense_block/dense_layer_0) shape: [1, 256]\n",
      "Flatten layer output(flatten) shape: [1, 8192]\n",
      "conv_block_2:\n",
      "\tMaxPool2D layer output(conv_block_2/max_pool_layer_1) shape: [1, 8, 8, 128]\n",
      "\tConv2D layer output(conv_block_2/conv_layer_1) shape: [1, 16, 16, 128]\n",
      "\tConv2D layer output(conv_block_2/conv_layer_0) shape: [1, 16, 16, 128]\n",
      "conv_block_1:\n",
      "\tMaxPool2D layer output(conv_block_1/max_pool_layer_1) shape: [1, 16, 16, 64]\n",
      "\tConv2D layer output(conv_block_1/conv_layer_1) shape: [1, 32, 32, 64]\n",
      "\tConv2D layer output(conv_block_1/conv_layer_0) shape: [1, 32, 32, 64]\n",
      "---------------------------------------------------------------------------\n",
      "Starting training with patience=4...\n"
     ]
    },
    {
     "name": "stdout",
     "output_type": "stream",
     "text": [
      "Epoch 1/10000: Train Loss: 1.6568, Val Loss: 1.2455, Val Acc: 0.5607, Time: 5.69s\n"
     ]
    },
    {
     "name": "stdout",
     "output_type": "stream",
     "text": [
      "Epoch 2/10000: Train Loss: 1.1475, Val Loss: 1.0051, Val Acc: 0.6514, Time: 3.25s\n"
     ]
    },
    {
     "name": "stdout",
     "output_type": "stream",
     "text": [
      "Epoch 3/10000: Train Loss: 0.9064, Val Loss: 0.8776, Val Acc: 0.7020, Time: 3.23s\n"
     ]
    },
    {
     "name": "stdout",
     "output_type": "stream",
     "text": [
      "Epoch 4/10000: Train Loss: 0.7546, Val Loss: 0.8519, Val Acc: 0.7121, Time: 3.23s\n"
     ]
    },
    {
     "name": "stdout",
     "output_type": "stream",
     "text": [
      "Epoch 5/10000: Train Loss: 0.6441, Val Loss: 0.8085, Val Acc: 0.7247, Time: 3.22s\n"
     ]
    },
    {
     "name": "stdout",
     "output_type": "stream",
     "text": [
      "Epoch 6/10000: Train Loss: 0.5576, Val Loss: 0.8400, Val Acc: 0.7226, Time: 3.22s\n"
     ]
    },
    {
     "name": "stdout",
     "output_type": "stream",
     "text": [
      "Epoch 7/10000: Train Loss: 0.4781, Val Loss: 0.8016, Val Acc: 0.7507, Time: 3.21s\n"
     ]
    },
    {
     "name": "stdout",
     "output_type": "stream",
     "text": [
      "Epoch 8/10000: Train Loss: 0.3998, Val Loss: 0.8451, Val Acc: 0.7422, Time: 3.22s\n"
     ]
    },
    {
     "name": "stdout",
     "output_type": "stream",
     "text": [
      "Epoch 9/10000: Train Loss: 0.3484, Val Loss: 0.8350, Val Acc: 0.7559, Time: 3.22s\n"
     ]
    },
    {
     "name": "stdout",
     "output_type": "stream",
     "text": [
      "Epoch 10/10000: Train Loss: 0.3032, Val Loss: 0.8933, Val Acc: 0.7569, Time: 3.24s\n",
      "Finished training after 10 epochs!\n"
     ]
    },
    {
     "name": "stdout",
     "output_type": "stream",
     "text": [
      "\n",
      "Training completed for VGG6 with patience=4 and he initialization\n",
      "Number of epochs trained: 10\n",
      "Final test accuracy: 0.7497\n",
      "Final training loss: 0.3032\n",
      "Final validation loss: 0.8933\n",
      "Final validation accuracy: 0.7569\n",
      "Clearing session to free memory...\n",
      "\n",
      "============================================================\n",
      "Training VGG6 with patience=5 and normal initialization\n",
      "============================================================\n",
      "---------------------------------------------------------------------------\n",
      "Dense layer output(output) shape: [1, 10]\n",
      "dense_block:\n",
      "\tDropout layer output(dense_block/dropout_layer_0) shape: [1, 256]\n",
      "\tDense layer output(dense_block/dense_layer_0) shape: [1, 256]\n",
      "Flatten layer output(flatten) shape: [1, 8192]\n",
      "conv_block_2:\n",
      "\tMaxPool2D layer output(conv_block_2/max_pool_layer_1) shape: [1, 8, 8, 128]\n",
      "\tConv2D layer output(conv_block_2/conv_layer_1) shape: [1, 16, 16, 128]\n",
      "\tConv2D layer output(conv_block_2/conv_layer_0) shape: [1, 16, 16, 128]\n",
      "conv_block_1:\n",
      "\tMaxPool2D layer output(conv_block_1/max_pool_layer_1) shape: [1, 16, 16, 64]\n",
      "\tConv2D layer output(conv_block_1/conv_layer_1) shape: [1, 32, 32, 64]\n",
      "\tConv2D layer output(conv_block_1/conv_layer_0) shape: [1, 32, 32, 64]\n",
      "---------------------------------------------------------------------------\n",
      "Starting training with patience=5...\n"
     ]
    },
    {
     "name": "stdout",
     "output_type": "stream",
     "text": [
      "Epoch 1/10000: Train Loss: 2.0499, Val Loss: 1.7696, Val Acc: 0.3386, Time: 5.91s\n"
     ]
    },
    {
     "name": "stdout",
     "output_type": "stream",
     "text": [
      "Epoch 2/10000: Train Loss: 1.6457, Val Loss: 1.4734, Val Acc: 0.4619, Time: 3.22s\n"
     ]
    },
    {
     "name": "stdout",
     "output_type": "stream",
     "text": [
      "Epoch 3/10000: Train Loss: 1.4557, Val Loss: 1.3246, Val Acc: 0.5238, Time: 3.21s\n"
     ]
    },
    {
     "name": "stdout",
     "output_type": "stream",
     "text": [
      "Epoch 4/10000: Train Loss: 1.3144, Val Loss: 1.1721, Val Acc: 0.5757, Time: 3.22s\n"
     ]
    },
    {
     "name": "stdout",
     "output_type": "stream",
     "text": [
      "Epoch 5/10000: Train Loss: 1.1803, Val Loss: 1.0938, Val Acc: 0.6074, Time: 3.22s\n"
     ]
    },
    {
     "name": "stdout",
     "output_type": "stream",
     "text": [
      "Epoch 6/10000: Train Loss: 1.0733, Val Loss: 0.9983, Val Acc: 0.6444, Time: 3.22s\n"
     ]
    },
    {
     "name": "stdout",
     "output_type": "stream",
     "text": [
      "Epoch 7/10000: Train Loss: 0.9868, Val Loss: 0.9544, Val Acc: 0.6631, Time: 3.21s\n"
     ]
    },
    {
     "name": "stdout",
     "output_type": "stream",
     "text": [
      "Epoch 8/10000: Train Loss: 0.9184, Val Loss: 0.9248, Val Acc: 0.6783, Time: 3.21s\n"
     ]
    },
    {
     "name": "stdout",
     "output_type": "stream",
     "text": [
      "Epoch 9/10000: Train Loss: 0.8513, Val Loss: 0.8770, Val Acc: 0.6904, Time: 3.23s\n"
     ]
    },
    {
     "name": "stdout",
     "output_type": "stream",
     "text": [
      "Epoch 10/10000: Train Loss: 0.8113, Val Loss: 0.8686, Val Acc: 0.7018, Time: 3.22s\n"
     ]
    },
    {
     "name": "stdout",
     "output_type": "stream",
     "text": [
      "Epoch 11/10000: Train Loss: 0.7637, Val Loss: 0.8679, Val Acc: 0.7022, Time: 3.21s\n"
     ]
    },
    {
     "name": "stdout",
     "output_type": "stream",
     "text": [
      "Epoch 12/10000: Train Loss: 0.7409, Val Loss: 0.8464, Val Acc: 0.7114, Time: 3.20s\n"
     ]
    },
    {
     "name": "stdout",
     "output_type": "stream",
     "text": [
      "Epoch 13/10000: Train Loss: 0.7075, Val Loss: 0.8309, Val Acc: 0.7203, Time: 3.21s\n"
     ]
    },
    {
     "name": "stdout",
     "output_type": "stream",
     "text": [
      "Epoch 14/10000: Train Loss: 0.6678, Val Loss: 0.8223, Val Acc: 0.7175, Time: 3.21s\n"
     ]
    },
    {
     "name": "stdout",
     "output_type": "stream",
     "text": [
      "Epoch 15/10000: Train Loss: 0.6475, Val Loss: 0.8648, Val Acc: 0.7165, Time: 3.22s\n"
     ]
    },
    {
     "name": "stdout",
     "output_type": "stream",
     "text": [
      "Epoch 16/10000: Train Loss: 0.6260, Val Loss: 0.8560, Val Acc: 0.7228, Time: 3.20s\n"
     ]
    },
    {
     "name": "stdout",
     "output_type": "stream",
     "text": [
      "Epoch 17/10000: Train Loss: 0.5958, Val Loss: 0.8287, Val Acc: 0.7299, Time: 3.21s\n"
     ]
    },
    {
     "name": "stdout",
     "output_type": "stream",
     "text": [
      "Epoch 18/10000: Train Loss: 0.5721, Val Loss: 0.8690, Val Acc: 0.7266, Time: 3.22s\n",
      "Finished training after 18 epochs!\n"
     ]
    },
    {
     "name": "stdout",
     "output_type": "stream",
     "text": [
      "\n",
      "Training completed for VGG6 with patience=5 and normal initialization\n",
      "Number of epochs trained: 18\n",
      "Final test accuracy: 0.7167\n",
      "Final training loss: 0.5721\n",
      "Final validation loss: 0.8690\n",
      "Final validation accuracy: 0.7266\n",
      "Clearing session to free memory...\n",
      "\n",
      "============================================================\n",
      "Training VGG6 with patience=5 and he initialization\n",
      "============================================================\n",
      "---------------------------------------------------------------------------\n",
      "Dense layer output(output) shape: [1, 10]\n",
      "dense_block:\n",
      "\tDropout layer output(dense_block/dropout_layer_0) shape: [1, 256]\n",
      "\tDense layer output(dense_block/dense_layer_0) shape: [1, 256]\n",
      "Flatten layer output(flatten) shape: [1, 8192]\n",
      "conv_block_2:\n",
      "\tMaxPool2D layer output(conv_block_2/max_pool_layer_1) shape: [1, 8, 8, 128]\n",
      "\tConv2D layer output(conv_block_2/conv_layer_1) shape: [1, 16, 16, 128]\n",
      "\tConv2D layer output(conv_block_2/conv_layer_0) shape: [1, 16, 16, 128]\n",
      "conv_block_1:\n",
      "\tMaxPool2D layer output(conv_block_1/max_pool_layer_1) shape: [1, 16, 16, 64]\n",
      "\tConv2D layer output(conv_block_1/conv_layer_1) shape: [1, 32, 32, 64]\n",
      "\tConv2D layer output(conv_block_1/conv_layer_0) shape: [1, 32, 32, 64]\n",
      "---------------------------------------------------------------------------\n",
      "Starting training with patience=5...\n"
     ]
    },
    {
     "name": "stdout",
     "output_type": "stream",
     "text": [
      "Epoch 1/10000: Train Loss: 1.6568, Val Loss: 1.2455, Val Acc: 0.5607, Time: 5.67s\n"
     ]
    },
    {
     "name": "stdout",
     "output_type": "stream",
     "text": [
      "Epoch 2/10000: Train Loss: 1.1475, Val Loss: 1.0051, Val Acc: 0.6514, Time: 3.23s\n"
     ]
    },
    {
     "name": "stdout",
     "output_type": "stream",
     "text": [
      "Epoch 3/10000: Train Loss: 0.9064, Val Loss: 0.8776, Val Acc: 0.7020, Time: 3.23s\n"
     ]
    },
    {
     "name": "stdout",
     "output_type": "stream",
     "text": [
      "Epoch 4/10000: Train Loss: 0.7546, Val Loss: 0.8519, Val Acc: 0.7121, Time: 3.24s\n"
     ]
    },
    {
     "name": "stdout",
     "output_type": "stream",
     "text": [
      "Epoch 5/10000: Train Loss: 0.6441, Val Loss: 0.8085, Val Acc: 0.7247, Time: 3.24s\n"
     ]
    },
    {
     "name": "stdout",
     "output_type": "stream",
     "text": [
      "Epoch 6/10000: Train Loss: 0.5576, Val Loss: 0.8400, Val Acc: 0.7226, Time: 3.23s\n"
     ]
    },
    {
     "name": "stdout",
     "output_type": "stream",
     "text": [
      "Epoch 7/10000: Train Loss: 0.4781, Val Loss: 0.8016, Val Acc: 0.7507, Time: 3.23s\n"
     ]
    },
    {
     "name": "stdout",
     "output_type": "stream",
     "text": [
      "Epoch 8/10000: Train Loss: 0.3998, Val Loss: 0.8451, Val Acc: 0.7422, Time: 3.24s\n"
     ]
    },
    {
     "name": "stdout",
     "output_type": "stream",
     "text": [
      "Epoch 9/10000: Train Loss: 0.3484, Val Loss: 0.8350, Val Acc: 0.7559, Time: 3.23s\n"
     ]
    },
    {
     "name": "stdout",
     "output_type": "stream",
     "text": [
      "Epoch 10/10000: Train Loss: 0.3032, Val Loss: 0.8933, Val Acc: 0.7569, Time: 3.25s\n"
     ]
    },
    {
     "name": "stdout",
     "output_type": "stream",
     "text": [
      "Epoch 11/10000: Train Loss: 0.2635, Val Loss: 0.9207, Val Acc: 0.7609, Time: 3.23s\n",
      "Finished training after 11 epochs!\n"
     ]
    },
    {
     "name": "stdout",
     "output_type": "stream",
     "text": [
      "\n",
      "Training completed for VGG6 with patience=5 and he initialization\n",
      "Number of epochs trained: 11\n",
      "Final test accuracy: 0.7531\n",
      "Final training loss: 0.2635\n",
      "Final validation loss: 0.9207\n",
      "Final validation accuracy: 0.7609\n",
      "Clearing session to free memory...\n"
     ]
    }
   ],
   "source": [
    "# lists to hold info in the right order\n",
    "training_losses = []\n",
    "val_losses = []  \n",
    "val_accs = []\n",
    "test_accs = []\n",
    "epochs_trained = []\n",
    "model_labels = []  # To keep track of which model is which\n",
    "\n",
    "# train VGG6 6 times\n",
    "pats = [3, 4, 5]\n",
    "inits = [\"normal\", \"he\"]\n",
    "\n",
    "for pat in pats:\n",
    "    for init in inits:\n",
    "        print(f\"\\n{'='*60}\")\n",
    "        print(f\"Training VGG6 with patience={pat} and {init} initialization\")\n",
    "        print(f\"{'='*60}\")\n",
    "        \n",
    "        tf.random.set_seed(0)\n",
    "        tf.keras.backend.clear_session()\n",
    "        \n",
    "        # create network\n",
    "        model = VGG6(C=10, input_feats_shape=x_train.shape[1:], wt_init=init)\n",
    "        \n",
    "        # Important: Set the loss function explicitly\n",
    "        model.loss_name = 'cross_entropy'\n",
    "        \n",
    "        # Important: Compile the model\n",
    "        model.compile(loss='cross_entropy', optimizer='adam', lr=0.001)\n",
    "        \n",
    "        # Create a label for this model configuration\n",
    "        model_label = f\"{init}{pat}\"\n",
    "        model_labels.append(model_label)\n",
    "        \n",
    "        # train\n",
    "        print(f\"Starting training with patience={pat}...\")\n",
    "        \n",
    "        # The fit method is on the model itself\n",
    "        train_loss_hist, val_loss_hist, val_acc_hist, e = model.fit(x_train, y_train, x_val, y_val, patience=pat)\n",
    "        \n",
    "        # evaluate on test set\n",
    "        test_acc, test_loss = model.evaluate(x_test, y_test, batch_sz=128)\n",
    "        \n",
    "        # store results in lists in the correct order\n",
    "        training_losses.append(train_loss_hist)\n",
    "        val_losses.append(val_loss_hist)\n",
    "        val_accs.append(val_acc_hist)\n",
    "        test_accs.append(test_acc)\n",
    "        epochs_trained.append(e)\n",
    "        \n",
    "        # print summary statistics\n",
    "        print(f\"\\nTraining completed for VGG6 with patience={pat} and {init} initialization\")\n",
    "        print(f\"Number of epochs trained: {e}\")\n",
    "        print(f\"Final test accuracy: {test_acc:.4f}\")\n",
    "        print(f\"Final training loss: {train_loss_hist[-1]:.4f}\")\n",
    "        print(f\"Final validation loss: {val_loss_hist[-1]:.4f}\")\n",
    "        print(f\"Final validation accuracy: {val_acc_hist[-1]:.4f}\")\n",
    "        \n",
    "        # print memory cleanup\n",
    "        print(\"Clearing session to free memory...\")"
   ]
  },
  {
   "cell_type": "code",
   "execution_count": 6,
   "id": "5ceed1",
   "metadata": {
    "collapsed": false
   },
   "outputs": [
    {
     "data": {
      "image/png": "[encoded data removed]",
      "text/plain": [
       "<Figure size 800x400 with 2 Axes>"
      ]
     },
     "execution_count": 6,
     "metadata": {},
     "output_type": "execute_result"
    },
    {
     "data": {
      "image/png": "[encoded data removed]",
      "text/plain": [
       "<Figure size 800x400 with 2 Axes>"
      ]
     },
     "execution_count": 6,
     "metadata": {},
     "output_type": "execute_result"
    },
    {
     "data": {
      "image/png": "[encoded data removed]",
      "text/plain": [
       "<Figure size 800x400 with 2 Axes>"
      ]
     },
     "execution_count": 6,
     "metadata": {},
     "output_type": "execute_result"
    }
   ],
   "source": [
    "# Plotting function\n",
    "def plot_loss_and_acc_wt_init_exp(hists,\n",
    "                                  labels=['normal3', 'he3', 'normal4', 'he4', 'normal5', 'he5'],\n",
    "                                  title='',\n",
    "                                  ylabel=''):\n",
    "    '''Plots either the training loss history, val loss history, or val acc history for the 6 networks.\n",
    "    This plotting function is provided to you. Feel free to modify to suit your needs.\n",
    "    Parameters:\n",
    "    -----------\n",
    "    hists: list of lists. len(hists)=6. len(sublists) = E, where E is number of epochs used to train.\n",
    "        The training loss, val loss, OR val acc history for the 6 networks.\n",
    "    labels: list of str.\n",
    "        The labels/order of conditions in the hists. Modify if your order does not match the default.\n",
    "    title: str.\n",
    "        A useful title.\n",
    "    ylabel: str.\n",
    "        A useful y label.\n",
    "    '''\n",
    "    if len(hists) != len(labels):\n",
    "        print('The length of the hists needs to match the labels length — one label per history')\n",
    "        return\n",
    "    rng = np.random.default_rng(0)\n",
    "    fig, axes = plt.subplots(ncols=2, figsize=(8, 4))\n",
    "    for i in range(len(labels)):\n",
    "        hist = hists[i]\n",
    "        label = labels[i]\n",
    "        shift = rng.uniform(low=-0.1, high=0.1, size=(1,))\n",
    "        if 'normal' in label:\n",
    "            axes[0].plot(hist+shift, label=label)\n",
    "        else:\n",
    "            axes[1].plot(hist+shift, label=label)\n",
    "    axes[0].legend()\n",
    "    axes[1].legend()\n",
    "    fig.suptitle(title)\n",
    "    axes[0].set_xlabel('Epoch')\n",
    "    axes[0].set_ylabel(ylabel)\n",
    "    plt.show()\n",
    "\n",
    "# Plot the results\n",
    "plot_loss_and_acc_wt_init_exp(training_losses,\n",
    "                              labels=model_labels,\n",
    "                              title='VGG6 CIFAR-10 training losses', \n",
    "                              ylabel='Loss')\n",
    "plot_loss_and_acc_wt_init_exp(val_losses,\n",
    "                              labels=model_labels,\n",
    "                              title='VGG6 CIFAR-10 val losses', \n",
    "                              ylabel='Loss')\n",
    "plot_loss_and_acc_wt_init_exp(val_accs,\n",
    "                              labels=model_labels,\n",
    "                              title='VGG6 CIFAR-10 val acc', \n",
    "                              ylabel='Acc')\n"
   ]
  },
  {
   "cell_type": "markdown",
   "id": "0352b2",
   "metadata": {
    "collapsed": false
   },
   "source": [
    "### 6e. Questions\n",
    "\n",
    "**Question 5:** How did the networks initialized with the Normal method compare to those initialized with He?\n",
    "\n",
    "**Question 6:** How does the test accuracy achieved by the best performing VGG6 network compare to:\n",
    "- the previous best VGG6 result you obtained (before this Task)?\n",
    "- the best VGG4 result?"
   ]
  },
  {
   "cell_type": "markdown",
   "id": "616f73",
   "metadata": {
    "collapsed": false
   },
   "source": [
    "**Answer 5:**\n",
    "\n",
    "**Answer 6:**"
   ]
  },
  {
   "cell_type": "markdown",
   "id": "0e5575",
   "metadata": {
    "collapsed": false
   },
   "source": [
    "## Task 7: Going deeper with VGG8\n",
    "\n",
    "With deeper networks, overfitting becomes a major concern. In this task, we will explore two ways to regularize deep neural networks and analyze the impact they have on classification accuracy.\n",
    "\n",
    "### 7a. Implement VGG8\n",
    "\n",
    "In `vgg_nets.py` implement the `VGG8` class. The VGG8 network has the following architecture:\n",
    "\n",
    "Conv2D → Conv2D → MaxPool2D → Conv2D → Conv2D → MaxPool2D → Conv2D → Conv2D → MaxPool2D → Flatten → Dense → Dropout → Dense\n",
    "\n",
    "If you copy-paste from VGG6, this should be fast."
   ]
  },
  {
   "cell_type": "code",
   "execution_count": 18,
   "id": "b77cc0",
   "metadata": {
    "collapsed": false
   },
   "outputs": [],
   "source": [
    "from vgg_nets import VGG8"
   ]
  },
  {
   "cell_type": "markdown",
   "id": "9046a2",
   "metadata": {
    "collapsed": false
   },
   "source": [
    "#### Test `VGG8`"
   ]
  },
  {
   "cell_type": "code",
   "execution_count": 19,
   "id": "193005",
   "metadata": {
    "collapsed": false
   },
   "outputs": [
    {
     "name": "stdout",
     "output_type": "stream",
     "text": [
      "---------------------------------------------------------------------------\n",
      "Dense layer output(output) shape: [1, 5]\n",
      "dense_block:\n",
      "\tDropout layer output(dense_block/dropout_layer_0) shape: [1, 512]\n",
      "\tDense layer output(dense_block/dense_layer_0) shape: [1, 512]\n",
      "Flatten layer output(flatten) shape: [1, 2304]\n",
      "conv_block_3:\n",
      "\tMaxPool2D layer output(conv_block_3/max_pool_layer_1) shape: [1, 3, 3, 256]\n",
      "\tConv2D layer output(conv_block_3/conv_layer_1) shape: [1, 6, 6, 256]\n",
      "\tConv2D layer output(conv_block_3/conv_layer_0) shape: [1, 6, 6, 256]\n",
      "conv_block_2:\n",
      "\tMaxPool2D layer output(conv_block_2/max_pool_layer_1) shape: [1, 6, 6, 128]\n",
      "\tConv2D layer output(conv_block_2/conv_layer_1) shape: [1, 12, 12, 128]\n",
      "\tConv2D layer output(conv_block_2/conv_layer_0) shape: [1, 12, 12, 128]\n",
      "conv_block_1:\n",
      "\tMaxPool2D layer output(conv_block_1/max_pool_layer_1) shape: [1, 12, 12, 64]\n",
      "\tConv2D layer output(conv_block_1/conv_layer_1) shape: [1, 24, 24, 64]\n",
      "\tConv2D layer output(conv_block_1/conv_layer_0) shape: [1, 24, 24, 64]\n",
      "---------------------------------------------------------------------------\n"
     ]
    }
   ],
   "source": [
    "v = VGG8(C=5, input_feats_shape=(24, 24, 10), wt_init='he')\n",
    "v.compile()"
   ]
  },
  {
   "cell_type": "markdown",
   "id": "a7c12d",
   "metadata": {
    "collapsed": false
   },
   "source": [
    "The above should print:\n",
    "\n",
    "```\n",
    "---------------------------------------------------------------------------\n",
    "Dense layer output(output) shape: [1, 5]\n",
    "DenseBlock1:\n",
    "\tDropout layer output(DenseBlock1/dropout) shape: [1, 512]\n",
    "\tDense layer output(DenseBlock1/dense0) shape: [1, 512]\n",
    "Flatten layer output(flat) shape: [1, 2304]\n",
    "ConvBlock3:\n",
    "\tMaxPool2D layer output(ConvBlock3/maxpool2) shape: [1, 3, 3, 256]\n",
    "\tConv2D layer output(ConvBlock3/conv1) shape: [1, 6, 6, 256]\n",
    "\tConv2D layer output(ConvBlock3/conv0) shape: [1, 6, 6, 256]\n",
    "ConvBlock2:\n",
    "\tMaxPool2D layer output(ConvBlock2/maxpool2) shape: [1, 6, 6, 128]\n",
    "\tConv2D layer output(ConvBlock2/conv1) shape: [1, 12, 12, 128]\n",
    "\tConv2D layer output(ConvBlock2/conv0) shape: [1, 12, 12, 128]\n",
    "ConvBlock1:\n",
    "\tMaxPool2D layer output(ConvBlock1/maxpool2) shape: [1, 12, 12, 64]\n",
    "\tConv2D layer output(ConvBlock1/conv1) shape: [1, 24, 24, 64]\n",
    "\tConv2D layer output(ConvBlock1/conv0) shape: [1, 24, 24, 64]\n",
    "---------------------------------------------------------------------------\n",
    "```\n"
   ]
  },
  {
   "cell_type": "code",
   "execution_count": 9,
   "id": "7bb11b",
   "metadata": {
    "collapsed": false
   },
   "outputs": [
    {
     "name": "stdout",
     "output_type": "stream",
     "text": [
      "Your net_acts are\n",
      "[[0.132 0.207 0.576 0.025 0.06 ]] and should be\n",
      "[[0.132 0.207 0.576 0.025 0.06 ]]\n"
     ]
    }
   ],
   "source": [
    "tf.random.set_seed(0)\n",
    "v = VGG8(C=5, input_feats_shape=(12, 12, 10), wt_init='he')\n",
    "tf.random.set_seed(1)\n",
    "net_acts = v(tf.random.uniform([1, 12, 12, 10]))\n",
    "\n",
    "print(f'Your net_acts are\\n{net_acts.numpy()} and should be')\n",
    "print('''[[0.132 0.207 0.576 0.025 0.06 ]]''')"
   ]
  },
  {
   "cell_type": "markdown",
   "id": "786576",
   "metadata": {
    "collapsed": false
   },
   "source": [
    "### 7b. Effects of dropout\n",
    "\n",
    "In the cell below, train VGG8 with and without dropout in the convolutional blocks (i.e. train 2 separate nets). Train with a patience of `4` and use He initialization.\n",
    "\n",
    "After training each net, store/record:\n",
    "1. the network's final test accuracy.\n",
    "2. the history of training loss (averaged across mini-batches, so one per epoch).\n",
    "3. the history of validation loss (checked every epoch).\n",
    "4. the history of validation accuracy (checked every epoch).\n",
    "\n",
    "**Notes:**\n",
    "- Set random seed before creating each net for consistency.\n",
    "- Use `tf.keras.backend.clear_session()` before creating each of the network to help prevent the memory used from growing."
   ]
  },
  {
   "cell_type": "code",
   "execution_count": 22,
   "id": "da3005",
   "metadata": {
    "collapsed": false
   },
   "outputs": [
    {
     "name": "stdout",
     "output_type": "stream",
     "text": [
      "\n",
      "============================================================\n",
      "Training VGG8 with no dropout | patience=6 | he initialization\n",
      "============================================================\n",
      "---------------------------------------------------------------------------\n",
      "Dense layer output(output) shape: [1, 10]\n",
      "dense_block:\n",
      "\tDropout layer output(dense_block/dropout_layer_0) shape: [1, 512]\n",
      "\tDense layer output(dense_block/dense_layer_0) shape: [1, 512]\n",
      "Flatten layer output(flatten) shape: [1, 4096]\n",
      "conv_block_3:\n",
      "\tMaxPool2D layer output(conv_block_3/max_pool_layer_1) shape: [1, 4, 4, 256]\n",
      "\tConv2D layer output(conv_block_3/conv_layer_1) shape: [1, 8, 8, 256]\n",
      "\tConv2D layer output(conv_block_3/conv_layer_0) shape: [1, 8, 8, 256]\n",
      "conv_block_2:\n",
      "\tMaxPool2D layer output(conv_block_2/max_pool_layer_1) shape: [1, 8, 8, 128]\n",
      "\tConv2D layer output(conv_block_2/conv_layer_1) shape: [1, 16, 16, 128]\n",
      "\tConv2D layer output(conv_block_2/conv_layer_0) shape: [1, 16, 16, 128]\n",
      "conv_block_1:\n",
      "\tMaxPool2D layer output(conv_block_1/max_pool_layer_1) shape: [1, 16, 16, 64]\n",
      "\tConv2D layer output(conv_block_1/conv_layer_1) shape: [1, 32, 32, 64]\n",
      "\tConv2D layer output(conv_block_1/conv_layer_0) shape: [1, 32, 32, 64]\n",
      "---------------------------------------------------------------------------\n",
      "Starting training with patience=6...\n"
     ]
    },
    {
     "name": "stdout",
     "output_type": "stream",
     "text": [
      "Epoch 1/10000: Train Loss: 1.6334, Val Loss: 1.2710, Val Acc: 0.5372, Time: 7.57s\n"
     ]
    },
    {
     "name": "stdout",
     "output_type": "stream",
     "text": [
      "Epoch 2/10000: Train Loss: 1.0824, Val Loss: 0.9408, Val Acc: 0.6739, Time: 4.02s\n"
     ]
    },
    {
     "name": "stdout",
     "output_type": "stream",
     "text": [
      "Epoch 3/10000: Train Loss: 0.8063, Val Loss: 0.7962, Val Acc: 0.7253, Time: 4.03s\n"
     ]
    },
    {
     "name": "stdout",
     "output_type": "stream",
     "text": [
      "Epoch 4/10000: Train Loss: 0.6306, Val Loss: 0.7661, Val Acc: 0.7452, Time: 4.06s\n"
     ]
    },
    {
     "name": "stdout",
     "output_type": "stream",
     "text": [
      "Epoch 5/10000: Train Loss: 0.4964, Val Loss: 0.7284, Val Acc: 0.7661, Time: 4.07s\n"
     ]
    },
    {
     "name": "stdout",
     "output_type": "stream",
     "text": [
      "Epoch 6/10000: Train Loss: 0.4111, Val Loss: 0.7240, Val Acc: 0.7746, Time: 4.06s\n"
     ]
    },
    {
     "name": "stdout",
     "output_type": "stream",
     "text": [
      "Epoch 7/10000: Train Loss: 0.3343, Val Loss: 0.7976, Val Acc: 0.7714, Time: 4.06s\n"
     ]
    },
    {
     "name": "stdout",
     "output_type": "stream",
     "text": [
      "Epoch 8/10000: Train Loss: 0.2715, Val Loss: 0.7631, Val Acc: 0.7715, Time: 4.07s\n"
     ]
    },
    {
     "name": "stdout",
     "output_type": "stream",
     "text": [
      "Epoch 9/10000: Train Loss: 0.2351, Val Loss: 0.7984, Val Acc: 0.7726, Time: 4.07s\n"
     ]
    },
    {
     "name": "stdout",
     "output_type": "stream",
     "text": [
      "Epoch 10/10000: Train Loss: 0.1968, Val Loss: 0.8564, Val Acc: 0.7855, Time: 4.06s\n"
     ]
    },
    {
     "name": "stdout",
     "output_type": "stream",
     "text": [
      "Epoch 11/10000: Train Loss: 0.1727, Val Loss: 0.9286, Val Acc: 0.7867, Time: 4.05s\n",
      "Finished training after 11 epochs!\n"
     ]
    },
    {
     "name": "stdout",
     "output_type": "stream",
     "text": [
      "\n",
      "Training completed for VGG8 with no dropout\n",
      "Number of epochs trained: 11\n",
      "Total training time: 48.12 seconds\n",
      "Average time per epoch: 4.37 seconds\n",
      "Final test accuracy: 0.7787\n",
      "Final training loss: 0.1727\n",
      "Final validation loss: 0.9286\n",
      "Final validation accuracy: 0.7867\n",
      "Clearing session to free memory...\n",
      "\n",
      "============================================================\n",
      "Training VGG8 with dropout | patience=6 | he initialization\n",
      "============================================================\n",
      "---------------------------------------------------------------------------\n",
      "Dense layer output(output) shape: [1, 10]\n",
      "dense_block:\n",
      "\tDropout layer output(dense_block/dropout_layer_0) shape: [1, 512]\n",
      "\tDense layer output(dense_block/dense_layer_0) shape: [1, 512]\n",
      "Flatten layer output(flatten) shape: [1, 4096]\n",
      "conv_block_3:\n",
      "\tDropout layer output(conv_block_3/dropout_layer_1) shape: [1, 4, 4, 256]\n",
      "\tMaxPool2D layer output(conv_block_3/max_pool_layer_1) shape: [1, 4, 4, 256]\n",
      "\tConv2D layer output(conv_block_3/conv_layer_1) shape: [1, 8, 8, 256]\n",
      "\tConv2D layer output(conv_block_3/conv_layer_0) shape: [1, 8, 8, 256]\n",
      "conv_block_2:\n",
      "\tDropout layer output(conv_block_2/dropout_layer_1) shape: [1, 8, 8, 128]\n",
      "\tMaxPool2D layer output(conv_block_2/max_pool_layer_1) shape: [1, 8, 8, 128]\n",
      "\tConv2D layer output(conv_block_2/conv_layer_1) shape: [1, 16, 16, 128]\n",
      "\tConv2D layer output(conv_block_2/conv_layer_0) shape: [1, 16, 16, 128]\n",
      "conv_block_1:\n",
      "\tDropout layer output(conv_block_1/dropout_layer_1) shape: [1, 16, 16, 64]\n",
      "\tMaxPool2D layer output(conv_block_1/max_pool_layer_1) shape: [1, 16, 16, 64]\n",
      "\tConv2D layer output(conv_block_1/conv_layer_1) shape: [1, 32, 32, 64]\n",
      "\tConv2D layer output(conv_block_1/conv_layer_0) shape: [1, 32, 32, 64]\n",
      "---------------------------------------------------------------------------\n",
      "Starting training with patience=6...\n"
     ]
    },
    {
     "name": "stderr",
     "output_type": "stream",
     "text": [
      "2025-02-25 17:52:47.354213: E tensorflow/core/grappler/optimizers/meta_optimizer.cc:1021] layout failed: INVALID_ARGUMENT: Size of values 0 does not match size of permutation 4 @ fanin shape incond/else/_1/cond/SelectV2-2-TransposeNHWCToNCHW-LayoutOptimizer\n"
     ]
    },
    {
     "name": "stdout",
     "output_type": "stream",
     "text": [
      "Epoch 1/10000: Train Loss: 1.6956, Val Loss: 1.2692, Val Acc: 0.5409, Time: 7.77s\n"
     ]
    },
    {
     "name": "stdout",
     "output_type": "stream",
     "text": [
      "Epoch 2/10000: Train Loss: 1.1551, Val Loss: 0.9888, Val Acc: 0.6534, Time: 4.09s\n"
     ]
    },
    {
     "name": "stdout",
     "output_type": "stream",
     "text": [
      "Epoch 3/10000: Train Loss: 0.9237, Val Loss: 0.8759, Val Acc: 0.6947, Time: 4.11s\n"
     ]
    },
    {
     "name": "stdout",
     "output_type": "stream",
     "text": [
      "Epoch 4/10000: Train Loss: 0.7566, Val Loss: 0.7533, Val Acc: 0.7400, Time: 4.08s\n"
     ]
    },
    {
     "name": "stdout",
     "output_type": "stream",
     "text": [
      "Epoch 5/10000: Train Loss: 0.6445, Val Loss: 0.7089, Val Acc: 0.7603, Time: 4.09s\n"
     ]
    },
    {
     "name": "stdout",
     "output_type": "stream",
     "text": [
      "Epoch 6/10000: Train Loss: 0.5659, Val Loss: 0.6893, Val Acc: 0.7701, Time: 4.09s\n"
     ]
    },
    {
     "name": "stdout",
     "output_type": "stream",
     "text": [
      "Epoch 7/10000: Train Loss: 0.4982, Val Loss: 0.6901, Val Acc: 0.7765, Time: 4.09s\n"
     ]
    },
    {
     "name": "stdout",
     "output_type": "stream",
     "text": [
      "Epoch 8/10000: Train Loss: 0.4385, Val Loss: 0.6845, Val Acc: 0.7774, Time: 4.07s\n"
     ]
    },
    {
     "name": "stdout",
     "output_type": "stream",
     "text": [
      "Epoch 9/10000: Train Loss: 0.3901, Val Loss: 0.6617, Val Acc: 0.7893, Time: 4.09s\n"
     ]
    },
    {
     "name": "stdout",
     "output_type": "stream",
     "text": [
      "Epoch 10/10000: Train Loss: 0.3382, Val Loss: 0.6856, Val Acc: 0.7961, Time: 4.08s\n"
     ]
    },
    {
     "name": "stdout",
     "output_type": "stream",
     "text": [
      "Epoch 11/10000: Train Loss: 0.3141, Val Loss: 0.7070, Val Acc: 0.7991, Time: 4.08s\n"
     ]
    },
    {
     "name": "stdout",
     "output_type": "stream",
     "text": [
      "Epoch 12/10000: Train Loss: 0.2938, Val Loss: 0.6907, Val Acc: 0.8011, Time: 4.08s\n"
     ]
    },
    {
     "name": "stdout",
     "output_type": "stream",
     "text": [
      "Epoch 13/10000: Train Loss: 0.2605, Val Loss: 0.7036, Val Acc: 0.8078, Time: 4.07s\n"
     ]
    },
    {
     "name": "stdout",
     "output_type": "stream",
     "text": [
      "Epoch 14/10000: Train Loss: 0.2412, Val Loss: 0.7396, Val Acc: 0.8013, Time: 4.09s\n",
      "Finished training after 14 epochs!\n"
     ]
    },
    {
     "name": "stdout",
     "output_type": "stream",
     "text": [
      "\n",
      "Training completed for VGG8 with dropout\n",
      "Number of epochs trained: 14\n",
      "Total training time: 60.88 seconds\n",
      "Average time per epoch: 4.35 seconds\n",
      "Final test accuracy: 0.7919\n",
      "Final training loss: 0.2412\n",
      "Final validation loss: 0.7396\n",
      "Final validation accuracy: 0.8013\n",
      "Clearing session to free memory...\n"
     ]
    }
   ],
   "source": [
    "# Lists to hold results\n",
    "train_losses = []\n",
    "val_losses = []\n",
    "val_accs = []\n",
    "test_accs = []\n",
    "epochs_trained = []\n",
    "model_names = [\"VGG8 (No Dropout)\", \"VGG8 (With Dropout)\"]\n",
    "# Settings\n",
    "patience = 6\n",
    "wt_init = \"he\"\n",
    "dropout_options = [False, True]  # Train without and with dropout\n",
    "\n",
    "# Import time for epoch timing\n",
    "import time\n",
    "\n",
    "# Train VGG8 with and without dropout\n",
    "for dropout in dropout_options:\n",
    "    print(f\"\\n{'='*60}\")\n",
    "    print(f\"Training VGG8 with {'dropout' if dropout else 'no dropout'} | patience={patience} | {wt_init} initialization\")\n",
    "    print(f\"{'='*60}\")\n",
    "    \n",
    "    # Set random seed and clear session\n",
    "    tf.random.set_seed(0)\n",
    "    tf.keras.backend.clear_session()\n",
    "    \n",
    "    # Create network\n",
    "    model = VGG8(C=10, \n",
    "                 input_feats_shape=x_train.shape[1:], \n",
    "                 wt_init=wt_init,\n",
    "                 conv_dropout=dropout)\n",
    "    \n",
    "    # Set loss function and compile model\n",
    "    model.loss_name = 'cross_entropy'\n",
    "    model.compile(loss='cross_entropy', optimizer='adam', lr=0.001)\n",
    "    \n",
    "    \n",
    "    print(f\"Starting training with patience={patience}...\")\n",
    "    \n",
    "    # Train the model - override fit method to track time per epoch\n",
    "    epoch_times = []\n",
    "    \n",
    "    start_total = time.time()\n",
    "    \n",
    "    train_loss_hist, val_loss_hist, val_acc_hist, e = model.fit(\n",
    "        x_train, y_train, x_val, y_val, patience=patience)\n",
    "    \n",
    "    total_time = time.time() - start_total\n",
    "    \n",
    "    # Evaluate on test set\n",
    "    test_acc, test_loss = model.evaluate(x_test, y_test, batch_sz=128)\n",
    "    \n",
    "    # Store results\n",
    "    train_losses.append(train_loss_hist)\n",
    "    val_losses.append(val_loss_hist)\n",
    "    val_accs.append(val_acc_hist)\n",
    "    test_accs.append(test_acc)\n",
    "    epochs_trained.append(e)\n",
    "    \n",
    "    # Print summary statistics\n",
    "    print(f\"\\nTraining completed for VGG8 with {'dropout' if dropout else 'no dropout'}\")\n",
    "    print(f\"Number of epochs trained: {e}\")\n",
    "    print(f\"Total training time: {total_time:.2f} seconds\")\n",
    "    print(f\"Average time per epoch: {total_time/e:.2f} seconds\")\n",
    "    print(f\"Final test accuracy: {test_acc:.4f}\")\n",
    "    print(f\"Final training loss: {train_loss_hist[-1]:.4f}\")\n",
    "    print(f\"Final validation loss: {val_loss_hist[-1]:.4f}\")\n",
    "    print(f\"Final validation accuracy: {val_acc_hist[-1]:.4f}\")\n",
    "    print(\"Clearing session to free memory...\")"
   ]
  },
  {
   "cell_type": "markdown",
   "id": "06e9af",
   "metadata": {
    "collapsed": false
   },
   "source": [
    "Use the function below to plot:\n",
    "1. The training loss history.\n",
    "2. The val loss history.\n",
    "3. The val acc history.\n",
    "\n",
    "Afterwards print the test accuracy for each network along wth the number of actual training epochs."
   ]
  },
  {
   "cell_type": "code",
   "execution_count": 23,
   "id": "8f8c46",
   "metadata": {
    "collapsed": false
   },
   "outputs": [
    {
     "data": {
      "image/png": "[encoded data removed]",
      "text/plain": [
       "<Figure size 640x480 with 1 Axes>"
      ]
     },
     "execution_count": 23,
     "metadata": {},
     "output_type": "execute_result"
    },
    {
     "data": {
      "image/png": "[encoded data removed]",
      "text/plain": [
       "<Figure size 640x480 with 1 Axes>"
      ]
     },
     "execution_count": 23,
     "metadata": {},
     "output_type": "execute_result"
    },
    {
     "data": {
      "image/png": "[encoded data removed]",
      "text/plain": [
       "<Figure size 640x480 with 1 Axes>"
      ]
     },
     "execution_count": 23,
     "metadata": {},
     "output_type": "execute_result"
    }
   ],
   "source": [
    "def plot_hist_dropout_exp(hist_nodropout, hist_dropout, title, ylabel):\n",
    "    '''Plots either the training loss history, val loss history, or val acc history for the net trained with and\n",
    "    without dropout.\n",
    "\n",
    "    This plotting function is provided to you. Feel free to modify to suit your needs.\n",
    "\n",
    "    Parameters:\n",
    "    -----------\n",
    "    hist_nodropout: array-like. len(hist_nodropout)=E, where E is number of epochs used to train.\n",
    "        The training loss, val loss, OR val acc history for the net trained without dropout.\n",
    "    hist_dropout: array-like. len(hist_dropout)=E, where E is number of epochs used to train.\n",
    "        The training loss, val loss, OR val acc history for the net trained with dropout.\n",
    "    title: str.\n",
    "        A useful title.\n",
    "    ylabel: str.\n",
    "        A useful y label.\n",
    "    '''\n",
    "    plt.plot(hist_nodropout, label='No dropout')\n",
    "    plt.plot(hist_dropout, label='Dropout')\n",
    "    plt.legend()\n",
    "    plt.title(title)\n",
    "    plt.xlabel('Epoch')\n",
    "    plt.ylabel(ylabel)\n",
    "    plt.show()\n",
    "\n",
    "# Use the provided plotting function for each type of history\n",
    "# Training Loss\n",
    "plot_hist_dropout_exp(\n",
    "    train_losses[0],  # No dropout\n",
    "    train_losses[1],  # With dropout\n",
    "    title='VGG8 CIFAR-10 training losses',\n",
    "    ylabel='Loss'\n",
    ")\n",
    "\n",
    "# Validation Loss\n",
    "plot_hist_dropout_exp(\n",
    "    val_losses[0],  # No dropout\n",
    "    val_losses[1],  # With dropout\n",
    "    title='VGG8 CIFAR-10 validation losses',\n",
    "    ylabel='Loss'\n",
    ")\n",
    "\n",
    "# Validation Accuracy\n",
    "plot_hist_dropout_exp(\n",
    "    val_accs[0],  # No dropout\n",
    "    val_accs[1],  # With dropout\n",
    "    title='VGG8 CIFAR-10 validation accuracy',\n",
    "    ylabel='Accuracy'\n",
    ")"
   ]
  },
  {
   "cell_type": "markdown",
   "id": "6147c4",
   "metadata": {
    "collapsed": false
   },
   "source": [
    "### 7c. Questions\n",
    "\n",
    "**Question 7:** What effect does the dropout have on the training and validation loss? What accounts the difference you observe? Please be specific.\n",
    "\n",
    "**Question 8:** What effect does the dropout have on the CIFAR10 test accuracy you achieved?\n",
    "\n",
    "**Question 9:** How does the test accuracy achieved with VGG8 (with and without dropout) compare to the best performing VGG6 network?"
   ]
  },
  {
   "cell_type": "markdown",
   "id": "d8474d",
   "metadata": {
    "collapsed": false
   },
   "source": [
    "**Answer 7:**\n",
    "\n",
    "In our experiment, we saw that dropout added the effect of lowering the val losses over time when compared with the no-dropout network. For instance, the no-dropout network finished with a final loss value of 0.92, while the dropout network had a final loss value of 0.73. However,  the dropout network did finish with a higher training loss of 0.24, compared to the no-dropout network's final training loss of 0.17.\n",
    "\n",
    "**Answer 8:**\n",
    "\n",
    "Dropout improved the final test accuracy, with the dropout network finishing with a final test accuracy of 0.79, and the no-dropout network finished with a final test accuracy of 0.77.\n",
    "\n",
    "**Answer 9:**\n",
    "\n",
    "The test accuracy of VGG8 (both with and without dropout) outperformed the best VGG6 models, where the VGG6 models maxed out at 0.75 accuracy on the test set, and the VGG8 models scored 0.79 (dropout) and 0.77 (no dropout)"
   ]
  },
  {
   "cell_type": "markdown",
   "id": "2c9b21",
   "metadata": {
    "collapsed": false
   },
   "source": [
    "### 7d. Add support for AdamW optimizer\n",
    "\n",
    "Another way to combat overfitting is more \"traditional\" regularization. But Adam may no longer be best choice when introducing this into training.\n",
    "\n",
    "In the `compile` method of `DeepNetwork`, add support for the AdamW optimizer (suggested string to select: `'adamw'`). When you create the AdamW optimizer object, specify the learning rate AND set the `weight_decay` keyword argument to the network's regularization strength. Since we are using the Keras built-in optimizer, this should be a one-liner."
   ]
  },
  {
   "cell_type": "markdown",
   "id": "1c878d",
   "metadata": {
    "collapsed": false
   },
   "source": [
    "### 7e. Regularization and choice of optimizer\n",
    "\n",
    "In the cell below, train VGG8 repeatedly with the following combinations of optimizer and regularization choices (*4 nets trained total*):\n",
    "\n",
    "**(Reg strength, optimizer):** `(0.6, Adam), (0.6, AdamW), (0.06, Adam), (0.0, Adam)`\n",
    "\n",
    "Do **not** use dropout in the conv blocks. Train with a patience of `4`. Use He initialization.\n",
    "\n",
    "After training each net, store/record:\n",
    "1. the network's final test accuracy.\n",
    "2. the history of training loss (averaged across mini-batches, so one per epoch).\n",
    "3. the history of validation loss (checked every epoch).\n",
    "4. the history of validation accuracy (checked every epoch).\n",
    "\n",
    "**Notes:**\n",
    "- Set random seed before creating each net for consistency.\n",
    "- Use `tf.keras.backend.clear_session()` before creating each of the network to help prevent the memory used from growing."
   ]
  },
  {
   "cell_type": "code",
   "execution_count": 0,
   "id": "f8a0ae",
   "metadata": {
    "collapsed": false
   },
   "outputs": [],
   "source": []
  },
  {
   "cell_type": "code",
   "execution_count": 0,
   "id": "898a44",
   "metadata": {
    "collapsed": false
   },
   "outputs": [],
   "source": [
    "def plot_hist_optimizer_exp(adamw_hist, adam_hists, adam_labels=['adam_reg', 'adam_low_reg', 'adam_no_reg'],\n",
    "                            title='',\n",
    "                            ylabel=''):\n",
    "    '''Plots either the training loss history, val loss history, or val acc history for the nets trained with adam and\n",
    "    adamw.\n",
    "\n",
    "    This plotting function is provided to you. Feel free to modify to suit your needs.\n",
    "\n",
    "    Parameters:\n",
    "    -----------\n",
    "    adamw_hist: array-like. len(hist_nodropout)=E, where E is number of epochs used to train.\n",
    "        The training loss, val loss, OR val acc history for the net trained with Adam.\n",
    "    adam_hists: list of lists. len(hists)=3. len(sublists) = E, where E is number of epochs used to train.\n",
    "        The training loss, val loss, OR val acc history for the 3 networks.\n",
    "    labels: list of str.\n",
    "        The labels/order of conditions in adam_hists. Modify if your order does not match the default.\n",
    "    title: str.\n",
    "        A useful title.\n",
    "    ylabel: str.\n",
    "        A useful y label.\n",
    "    '''\n",
    "    fig, axes = plt.subplots(ncols=2, figsize=(8,4))\n",
    "\n",
    "    axes[0].plot(adamw_hist, label='adamw_reg')\n",
    "    for i in range(len(adam_labels)):\n",
    "        axes[1].plot(adam_hists[i], label=adam_labels[i])\n",
    "\n",
    "    axes[0].legend()\n",
    "    axes[1].legend()\n",
    "    fig.suptitle(title)\n",
    "    axes[0].set_ylabel(ylabel)\n",
    "    axes[1].set_xlabel('Epoch')\n",
    "    plt.show()\n",
    "\n",
    "# This code is here to help you plot your results and test accuracies. It will almost certainly not exactly work\n",
    "# with your variables. Feel free to adapt to suit your needs or delete and use your own code.\n",
    "plot_hist_optimizer_exp(train_losses[0], train_losses[1:], title='VGG8 CIFAR-10 training losses', ylabel='Loss')\n",
    "plot_hist_optimizer_exp(val_losses[0], val_losses[1:], title='VGG8 CIFAR-10 val losses', ylabel='Loss')\n",
    "plot_hist_optimizer_exp(val_accs[0], val_accs[1:], title='VGG8 CIFAR-10 val accs', ylabel='Accuracy')\n",
    "\n",
    "\n",
    "all_labels = ['adamw_reg', 'adam_reg', 'adam_low_reg', 'adam_no_reg']\n",
    "print('Test accs:')\n",
    "print()\n",
    "for i in range(len(all_labels)):\n",
    "    print(f'{all_labels[i]}: {100*test_accs[i]:.2f}')"
   ]
  },
  {
   "cell_type": "markdown",
   "id": "289aa2",
   "metadata": {
    "collapsed": false
   },
   "source": [
    "### 7c. Questions\n",
    "\n",
    "**Question 10:** What effect does regularization have with Adam? When does it perform best/worst? How do you know?\n",
    "\n",
    "**Question 11:** How does the results with AdamW compare with the nets trained with Adam?"
   ]
  },
  {
   "cell_type": "markdown",
   "id": "807463",
   "metadata": {
    "collapsed": false
   },
   "source": [
    "**Answer 10:**\n",
    "\n",
    "**Answer 11:**"
   ]
  },
  {
   "cell_type": "markdown",
   "id": "597124",
   "metadata": {
    "collapsed": false
   },
   "source": [
    "## Task 8: Going even deeper with VGG15\n",
    "\n",
    "This network is an approximation of the VGG19 network from the VGG paper. This is a big and deep model:\n",
    "- 5 conv blocks. First two blocks have 2 conv layers, each. The remaining blocks have 3 conv layers each. There is no dropout in any of the conv blocks.\n",
    "- flatten layer.\n",
    "- 1 dense block with dropout.\n",
    "- 1 dense output layer with softmax activation.\n",
    "\n",
    "In this task, the goal is to implement VGG15 and assess its baseline accuracy on CIFAR-10."
   ]
  },
  {
   "cell_type": "markdown",
   "id": "287a74",
   "metadata": {
    "collapsed": false
   },
   "source": [
    "### 8a. Implement and test VGG15\n",
    "\n",
    "If you copy-paste from VGG8, this should be fast."
   ]
  },
  {
   "cell_type": "code",
   "execution_count": 4,
   "id": "4791f3",
   "metadata": {
    "collapsed": false
   },
   "outputs": [],
   "source": [
    "from vgg_nets import VGG15"
   ]
  },
  {
   "cell_type": "markdown",
   "id": "1bbb14",
   "metadata": {
    "collapsed": false
   },
   "source": [
    "#### Test: `VGG15`"
   ]
  },
  {
   "cell_type": "code",
   "execution_count": 5,
   "id": "5cff11",
   "metadata": {
    "collapsed": false
   },
   "outputs": [
    {
     "name": "stdout",
     "output_type": "stream",
     "text": [
      "---------------------------------------------------------------------------\n",
      "Dense layer output(output) shape: [1, 5]\n",
      "dense_block:\n",
      "\tDropout layer output(dense_block/dropout_layer_0) shape: [1, 512]\n",
      "\tDense layer output(dense_block/dense_layer_0) shape: [1, 512]\n",
      "Flatten layer output(flatten) shape: [1, 512]\n",
      "conv_block_5:\n",
      "\tMaxPool2D layer output(conv_block_5/max_pool_layer_2) shape: [1, 1, 1, 512]\n",
      "\tConv2D layer output(conv_block_5/conv_layer_2) shape: [1, 2, 2, 512]\n",
      "\tConv2D layer output(conv_block_5/conv_layer_1) shape: [1, 2, 2, 512]\n",
      "\tConv2D layer output(conv_block_5/conv_layer_0) shape: [1, 2, 2, 512]\n",
      "conv_block_4:\n",
      "\tMaxPool2D layer output(conv_block_4/max_pool_layer_2) shape: [1, 2, 2, 512]\n",
      "\tConv2D layer output(conv_block_4/conv_layer_2) shape: [1, 4, 4, 512]\n",
      "\tConv2D layer output(conv_block_4/conv_layer_1) shape: [1, 4, 4, 512]\n",
      "\tConv2D layer output(conv_block_4/conv_layer_0) shape: [1, 4, 4, 512]\n",
      "conv_block_3:\n",
      "\tMaxPool2D layer output(conv_block_3/max_pool_layer_2) shape: [1, 4, 4, 256]\n",
      "\tConv2D layer output(conv_block_3/conv_layer_2) shape: [1, 8, 8, 256]\n",
      "\tConv2D layer output(conv_block_3/conv_layer_1) shape: [1, 8, 8, 256]\n",
      "\tConv2D layer output(conv_block_3/conv_layer_0) shape: [1, 8, 8, 256]\n",
      "conv_block_2:\n",
      "\tMaxPool2D layer output(conv_block_2/max_pool_layer_1) shape: [1, 8, 8, 128]\n",
      "\tConv2D layer output(conv_block_2/conv_layer_1) shape: [1, 16, 16, 128]\n",
      "\tConv2D layer output(conv_block_2/conv_layer_0) shape: [1, 16, 16, 128]\n",
      "conv_block_1:\n",
      "\tMaxPool2D layer output(conv_block_1/max_pool_layer_1) shape: [1, 16, 16, 64]\n",
      "\tConv2D layer output(conv_block_1/conv_layer_1) shape: [1, 32, 32, 64]\n",
      "\tConv2D layer output(conv_block_1/conv_layer_0) shape: [1, 32, 32, 64]\n",
      "---------------------------------------------------------------------------\n"
     ]
    }
   ],
   "source": [
    "v = VGG15(C=5, input_feats_shape=(32, 32, 3), wt_init='he')\n",
    "v.compile()"
   ]
  },
  {
   "cell_type": "markdown",
   "id": "bdbebe",
   "metadata": {
    "collapsed": false
   },
   "source": [
    "The above should print:\n",
    "\n",
    "```\n",
    "---------------------------------------------------------------------------\n",
    "Dense layer output(output) shape: [1, 5]\n",
    "DenseBlock1:\n",
    "\tDropout layer output(DenseBlock1/dropout) shape: [1, 512]\n",
    "\tDense layer output(DenseBlock1/dense0) shape: [1, 512]\n",
    "Flatten layer output(flat) shape: [1, 512]\n",
    "ConvBlock5:\n",
    "\tMaxPool2D layer output(ConvBlock5/maxpool2) shape: [1, 1, 1, 512]\n",
    "\tConv2D layer output(ConvBlock5/conv2) shape: [1, 2, 2, 512]\n",
    "\tConv2D layer output(ConvBlock5/conv1) shape: [1, 2, 2, 512]\n",
    "\tConv2D layer output(ConvBlock5/conv0) shape: [1, 2, 2, 512]\n",
    "ConvBlock4:\n",
    "\tMaxPool2D layer output(ConvBlock4/maxpool2) shape: [1, 2, 2, 512]\n",
    "\tConv2D layer output(ConvBlock4/conv2) shape: [1, 4, 4, 512]\n",
    "\tConv2D layer output(ConvBlock4/conv1) shape: [1, 4, 4, 512]\n",
    "\tConv2D layer output(ConvBlock4/conv0) shape: [1, 4, 4, 512]\n",
    "ConvBlock3:\n",
    "\tMaxPool2D layer output(ConvBlock3/maxpool2) shape: [1, 4, 4, 256]\n",
    "\tConv2D layer output(ConvBlock3/conv2) shape: [1, 8, 8, 256]\n",
    "\tConv2D layer output(ConvBlock3/conv1) shape: [1, 8, 8, 256]\n",
    "\tConv2D layer output(ConvBlock3/conv0) shape: [1, 8, 8, 256]\n",
    "ConvBlock2:\n",
    "\tMaxPool2D layer output(ConvBlock2/maxpool2) shape: [1, 8, 8, 128]\n",
    "\tConv2D layer output(ConvBlock2/conv1) shape: [1, 16, 16, 128]\n",
    "\tConv2D layer output(ConvBlock2/conv0) shape: [1, 16, 16, 128]\n",
    "ConvBlock1:\n",
    "\tMaxPool2D layer output(ConvBlock1/maxpool2) shape: [1, 16, 16, 64]\n",
    "\tConv2D layer output(ConvBlock1/conv1) shape: [1, 32, 32, 64]\n",
    "\tConv2D layer output(ConvBlock1/conv0) shape: [1, 32, 32, 64]\n",
    "---------------------------------------------------------------------------\n",
    "```\n"
   ]
  },
  {
   "cell_type": "code",
   "execution_count": 0,
   "id": "c9bd4a",
   "metadata": {
    "collapsed": false
   },
   "outputs": [],
   "source": [
    "tf.random.set_seed(0)\n",
    "v = VGG15(C=5, input_feats_shape=(32, 32, 3), wt_init='he')\n",
    "tf.random.set_seed(1)\n",
    "net_acts = v(tf.random.uniform([3, 32, 32, 3]))\n",
    "\n",
    "print(f'Your net_acts are\\n{net_acts.numpy()} and should be')\n",
    "print('''[[0.096 0.298 0.203 0.319 0.084]\n",
    " [0.089 0.278 0.216 0.33  0.087]\n",
    " [0.087 0.277 0.214 0.345 0.078]]''')"
   ]
  },
  {
   "cell_type": "markdown",
   "id": "ea96e2",
   "metadata": {
    "collapsed": false
   },
   "source": [
    "### 8b. Train VGG15 on CIFAR-10\n",
    "\n",
    "Here is how you should setup training:\n",
    "1. Train with patience of `4`.\n",
    "2. Use He initialization.\n",
    "3. Use AdamW and regularization of `0.6`.\n",
    "\n",
    "Store/record:\n",
    "1. the network's final test accuracy.\n",
    "2. the history of training loss (averaged across mini-batches, so one per epoch).\n",
    "3. the history of validation loss (checked every epoch).\n",
    "\n",
    "**Notes:**\n",
    "- Set random seed at the beginning for consistency.\n",
    "- Use `tf.keras.backend.clear_session()` at the beginning to help prevent the memory used from growing."
   ]
  },
  {
   "cell_type": "code",
   "execution_count": 0,
   "id": "5dd65b",
   "metadata": {
    "collapsed": false
   },
   "outputs": [],
   "source": [
    "tf.random.set_seed(0)\n",
    "tf.keras.backend.clear_session()\n",
    "\n"
   ]
  },
  {
   "cell_type": "markdown",
   "id": "573b90",
   "metadata": {
    "collapsed": false
   },
   "source": [
    "In the cell below, plot the VGG15 train and validation loss history over epochs. Place the test acc in the title."
   ]
  },
  {
   "cell_type": "code",
   "execution_count": 0,
   "id": "d3f02b",
   "metadata": {
    "collapsed": false
   },
   "outputs": [],
   "source": []
  },
  {
   "cell_type": "markdown",
   "id": "289909",
   "metadata": {
    "collapsed": false
   },
   "source": [
    "### 8c. Questions\n",
    "\n",
    "**Question 12:** How does the baseline accuracy of VGG15 compare to the best accuracies you achieved with the shallower networks? Did this surprise you?"
   ]
  },
  {
   "cell_type": "markdown",
   "id": "8bbef9",
   "metadata": {
    "collapsed": false
   },
   "source": [
    "**Answer 12:**"
   ]
  }
 ],
 "metadata": {
  "kernelspec": {
   "display_name": "Python 3",
   "language": "python",
   "name": "python3"
  },
  "language_info": {
   "codemirror_mode": {
    "name": "ipython",
    "version": 3
   },
   "file_extension": ".py",
   "mimetype": "text/x-python",
   "name": "python",
   "nbconvert_exporter": "python",
   "pygments_lexer": "ipython3",
   "version": "3.11.5"
  }
 },
 "nbformat": 4,
 "nbformat_minor": 4
}
