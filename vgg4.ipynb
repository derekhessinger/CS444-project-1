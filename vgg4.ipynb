{
 "cells": [
  {
   "cell_type": "markdown",
   "id": "04d987",
   "metadata": {
    "collapsed": false
   },
   "source": [
    "**YOUR NAMES HERE**\n",
    "\n",
    "Spring 2025\n",
    "\n",
    "CS 444: Deep Learning\n",
    "\n",
    "Project 1: Deep Neural Networks \n",
    "\n",
    "#### Week 1: VGG4 and building a deep learning library"
   ]
  },
  {
   "cell_type": "code",
   "execution_count": 1,
   "id": "b2df8b",
   "metadata": {
    "collapsed": false
   },
   "outputs": [
    {
     "name": "stderr",
     "output_type": "stream",
     "text": [
      "2025-02-18 01:37:51.156314: I tensorflow/core/util/port.cc:113] oneDNN custom operations are on. You may see slightly different numerical results due to floating-point round-off errors from different computation orders. To turn them off, set the environment variable `TF_ENABLE_ONEDNN_OPTS=0`.\n",
      "2025-02-18 01:37:58.008499: I tensorflow/core/platform/cpu_feature_guard.cc:211] This TensorFlow binary is optimized to use available CPU instructions in performance-critical operations.\n",
      "To enable the following instructions: SSE3 SSE4.1 SSE4.2 AVX, in other operations, rebuild TensorFlow with the appropriate compiler flags.\n"
     ]
    }
   ],
   "source": [
    "import numpy as np\n",
    "import tensorflow as tf\n",
    "import matplotlib.pyplot as plt\n",
    "\n",
    "plt.style.use(['seaborn-v0_8-colorblind', 'seaborn-v0_8-darkgrid'])\n",
    "plt.rcParams.update({'font.size': 18})\n",
    "\n",
    "np.set_printoptions(suppress=True, precision=4)\n",
    "\n",
    "# Automatically reload your external source code\n",
    "%load_ext autoreload\n",
    "%autoreload 2"
   ]
  },
  {
   "cell_type": "markdown",
   "id": "e7cec8",
   "metadata": {
    "collapsed": false
   },
   "source": [
    "## Task 4. Train `VGG4` on MNIST and CIFAR-10\n",
    "\n",
    "Woohoo! VGG4 is built and tested! Time for some fun! 😎"
   ]
  },
  {
   "cell_type": "markdown",
   "id": "640caf",
   "metadata": {
    "collapsed": false
   },
   "source": [
    "To train in a reasonable amount of time, upload your project code to CoCalc so that you can train on the GPU. See [instructions on the class website ](https://cs.colby.edu/courses/S25/cs444/software.html#cocalc) for getting this setup.\n",
    "\n",
    "*As noted on the website, if you have a higher-end Macbook with a Pro or Max chip and ≥ 16 GB of memory, you could probably run this workload on your computer if you would prefer. This is entirely optional and the cloud will almost certainly be faster than even the fastest Mac. Setting this up would just provide some extra convenience/flexibility. See the [macOS instructions](https://cs.colby.edu/courses/S25/cs444/software.html#tfmac) for setup.*\n",
    "\n",
    "Run the cell below to make sure TensorFlow is running on the GPU."
   ]
  },
  {
   "cell_type": "code",
   "execution_count": 2,
   "id": "bfc8ab",
   "metadata": {
    "collapsed": false
   },
   "outputs": [
    {
     "name": "stdout",
     "output_type": "stream",
     "text": [
      "Running on the GPU\n"
     ]
    }
   ],
   "source": [
    "gpus = tf.config.list_physical_devices('GPU')\n",
    "if len(gpus) > 0:\n",
    "    print('Running on the GPU')\n",
    "else:\n",
    "    print('NOT running on the GPU')"
   ]
  },
  {
   "cell_type": "code",
   "execution_count": 3,
   "id": "20ff08",
   "metadata": {
    "collapsed": false
   },
   "outputs": [
   ],
   "source": [
    "from datasets import get_dataset\n",
    "from vgg_nets import VGG4"
   ]
  },
  {
   "cell_type": "markdown",
   "id": "0b3bee",
   "metadata": {
    "collapsed": false
   },
   "source": [
    "### 4a. Train `VGG4` on MNIST on the GPU\n",
    "\n",
    "This will be a \"hello world\" test to make sure your `fit` method is working.\n",
    "\n",
    "Write code in the cell below to load in MNIST"
   ]
  },
  {
   "cell_type": "code",
   "execution_count": 11,
   "id": "8d7f70",
   "metadata": {
    "collapsed": false
   },
   "outputs": [
    {
     "name": "stdout",
     "output_type": "stream",
     "text": [
      "Your training set data have shape (54000, 28, 28, 1) and they should be (54000, 28, 28, 1)\n",
      "Your training set labels have shape (54000,) and they should be (54000,)\n",
      "Your val set data have shape (6000, 28, 28, 1) and they should be (6000, 28, 28, 1)\n",
      "Your val set labels have shape (6000,) and they should be (6000,)\n",
      "Your test set data have shape (10000, 28, 28, 1) and they should be (10000, 28, 28, 1)\n",
      "Your test set labels have shape (10000,) and they should be (10000,)\n"
     ]
    }
   ],
   "source": [
    "x_train, y_train, x_val, y_val, x_test, y_test, classnames = get_dataset('mnist', val_prop=0.1)\n",
    "# KEEP ME\n",
    "print(f'Your training set data have shape {x_train.shape} and they should be (54000, 28, 28, 1)')\n",
    "print(f'Your training set labels have shape {y_train.shape} and they should be (54000,)')\n",
    "print(f'Your val set data have shape {x_val.shape} and they should be (6000, 28, 28, 1)')\n",
    "print(f'Your val set labels have shape {y_val.shape} and they should be (6000,)')\n",
    "print(f'Your test set data have shape {x_test.shape} and they should be (10000, 28, 28, 1)')\n",
    "print(f'Your test set labels have shape {y_test.shape} and they should be (10000,)')"
   ]
  },
  {
   "cell_type": "markdown",
   "id": "938a5e",
   "metadata": {
    "collapsed": false
   },
   "source": [
    "Train `VGG4` in the cell below on MNIST for `7` epochs and a batch size of `1024`! Print out your accuracy on the test set when training is done.\n",
    "\n",
    "The **entire** process of training and evaluating test accuracy should take no more than 1 min (*at most!*). If it is taking longer, seek help.\n",
    "\n",
    "Your print outs should look something like:\n",
    "\n",
    "```\n",
    "---------------------------------------------------------------------------\n",
    "Dense layer output(output) shape: [1, 10]\n",
    "Dropout layer output(dropout1) shape: [1, 128]\n",
    "Dense layer output(dense1) shape: [1, 128]\n",
    "Flatten layer output(flat) shape: [1, 12544]\n",
    "MaxPool2D layer output(maxpool1) shape: [1, 14, 14, 64]\n",
    "Conv2D layer output(conv2) shape: [1, 28, 28, 64]\n",
    "Conv2D layer output(conv1) shape: [1, 28, 28, 64]\n",
    "---------------------------------------------------------------------------\n",
    "Epoch 0/6, Training loss 1.54, Val loss 0.33, Val acc 89.94 \n",
    "Epoch 0 took: blah0 secs\n",
    "Epoch 1/6, Training loss 0.42, Val loss 0.17, Val acc 94.59 \n",
    "Epoch 1 took: blah1 secs\n",
    "...\n",
    "Epoch 6/6, Training loss surprise, Val loss surprise, Val acc surprise\n",
    "Epoch 6 took: blah6 secs\n",
    "Finished training after 7 epochs!\n",
    "VGG4 MNIST Test accuracy: surprise%\n",
    "```\n",
    "\n",
    "The val and test accuracy should be satisfyingly high — in the high 90s."
   ]
  },
  {
   "cell_type": "code",
   "execution_count": 13,
   "id": "3260e0",
   "metadata": {
    "collapsed": false
   },
   "outputs": [
    {
     "name": "stdout",
     "output_type": "stream",
     "text": [
      "---------------------------------------------------------------------------\n",
      "Dense layer output(output_layer) shape: [1, 10]\n",
      "Dropout layer output(dropout_layer_3) shape: [1, 128]\n",
      "Dense layer output(dense_layer_3) shape: [1, 128]\n",
      "Flatten layer output(flatten_layer_2) shape: [1, 12544]\n",
      "MaxPool2D layer output(max_pool_layer_1) shape: [1, 14, 14, 64]\n",
      "Conv2D layer output(conv_layer_2) shape: [1, 28, 28, 64]\n",
      "Conv2D layer output(conv_layer_1) shape: [1, 28, 28, 64]\n",
      "---------------------------------------------------------------------------\n"
     ]
    },
    {
     "name": "stdout",
     "output_type": "stream",
     "text": [
      "Epoch 1/7: Train Loss: 1.5952, Val Loss: 0.3384, Val Acc: 0.9031, Time: 4.21s\n"
     ]
    },
    {
     "name": "stdout",
     "output_type": "stream",
     "text": [
      "Epoch 2/7: Train Loss: 0.4189, Val Loss: 0.1657, Val Acc: 0.9490, Time: 2.18s\n"
     ]
    },
    {
     "name": "stdout",
     "output_type": "stream",
     "text": [
      "Epoch 3/7: Train Loss: 0.3105, Val Loss: 0.1254, Val Acc: 0.9650, Time: 2.18s\n"
     ]
    },
    {
     "name": "stdout",
     "output_type": "stream",
     "text": [
      "Epoch 4/7: Train Loss: 0.2554, Val Loss: 0.0890, Val Acc: 0.9727, Time: 2.18s\n"
     ]
    },
    {
     "name": "stdout",
     "output_type": "stream",
     "text": [
      "Epoch 5/7: Train Loss: 0.2035, Val Loss: 0.0716, Val Acc: 0.9750, Time: 2.18s\n"
     ]
    },
    {
     "name": "stdout",
     "output_type": "stream",
     "text": [
      "Epoch 6/7: Train Loss: 0.1642, Val Loss: 0.0636, Val Acc: 0.9791, Time: 2.18s\n"
     ]
    },
    {
     "name": "stdout",
     "output_type": "stream",
     "text": [
      "Epoch 7/7: Train Loss: 0.1424, Val Loss: 0.0555, Val Acc: 0.9814, Time: 2.18s\n",
      "Finished training after 7 epochs!\n",
      "\n",
      "Evaluating on test set...\n",
      "Final test accuracy: 0.9752\n"
     ]
    }
   ],
   "source": [
    "# KEEP THIS SEED\n",
    "tf.random.set_seed(0)\n",
    "\n",
    "from vgg_nets import VGG4\n",
    "\n",
    "vgg4 = VGG4(C=10, input_feats_shape=(28, 28, 1))\n",
    "vgg4.compile()\n",
    "\n",
    "train_loss_hist, val_loss_hist, val_acc_hist, e = vgg4.fit(x_train, y_train, x_val, y_val, batch_size = 1024, max_epochs=7)\n",
    "print(\"\\nEvaluating on test set...\")\n",
    "test_acc = vgg4.evaluate(x_test, y_test, 1024)\n",
    "print(f\"Final test accuracy: {test_acc[0]:.4f}\")"
   ]
  },
  {
   "cell_type": "markdown",
   "id": "b66049",
   "metadata": {
    "collapsed": false
   },
   "source": [
    "### 4b. Train `VGG4` on MNIST on the CPU\n",
    "\n",
    "To appreciate the advantage for training deep networks on GPUs instead of your computer's CPU, copy-paste your code above that trains your VGG4 net on MNIST below. Instead of running it on CoCalc, run it locally on your computer. Be sure to print out the time per epoch.\n",
    "\n",
    "*If the net takes >2 minutes per epoch on your computer, just train for one epoch then call it quits :)*"
   ]
  },
  {
   "cell_type": "markdown",
   "id": "1551bf",
   "metadata": {
    "collapsed": false
   },
   "source": [
    "### 4c. Questions\n",
    "\n",
    "**Question 1:** Approximately how long did it take for 1 epoch of training with and without the GPU. Compute the relative compute time (`gpu_time_per_epoch`/`cpu_time_per_epoch`). What do you think?"
   ]
  },
  {
   "cell_type": "markdown",
   "id": "d51152",
   "metadata": {
    "collapsed": false
   },
   "source": [
    "**Answer 1:**"
   ]
  },
  {
   "cell_type": "markdown",
   "id": "98a66c",
   "metadata": {
    "collapsed": false
   },
   "source": [
    "### 4d. Train `VGG4` on CIFAR-10\n",
    "\n",
    "Now let's train on CIFAR-10. Run this (*and all subsequent large training sessions*) on CoCalc/the GPU 😊\n",
    "\n",
    "Write code in the cell below to load in CIFAR-10."
   ]
  },
  {
   "cell_type": "code",
   "execution_count": 17,
   "id": "8ef94c",
   "metadata": {
    "collapsed": false
   },
   "outputs": [
    {
     "name": "stdout",
     "output_type": "stream",
     "text": [
      "Your training set data have shape (45000, 32, 32, 3) and they should be (45000, 32, 32, 3)\n",
      "Your training set labels have shape (45000,) and they should be (45000,)\n",
      "Your val set data have shape (5000, 32, 32, 3) and they should be (5000, 32, 32, 3)\n",
      "Your val set labels have shape (5000,) and they should be (5000,)\n",
      "Your test set data have shape (10000, 32, 32, 3) and they should be (10000, 32, 32, 3)\n",
      "Your test set labels have shape (10000,) and they should be (10000,)\n"
     ]
    }
   ],
   "source": [
    "x_train, y_train, x_val, y_val, x_test, y_test, classnames = get_dataset('cifar10', val_prop=0.1)\n",
    "# KEEP ME\n",
    "print(f'Your training set data have shape {x_train.shape} and they should be (45000, 32, 32, 3)')\n",
    "print(f'Your training set labels have shape {y_train.shape} and they should be (45000,)')\n",
    "print(f'Your val set data have shape {x_val.shape} and they should be (5000, 32, 32, 3)')\n",
    "print(f'Your val set labels have shape {y_val.shape} and they should be (5000,)')\n",
    "print(f'Your test set data have shape {x_test.shape} and they should be (10000, 32, 32, 3)')\n",
    "print(f'Your test set labels have shape {y_test.shape} and they should be (10000,)')"
   ]
  },
  {
   "cell_type": "markdown",
   "id": "b0a115",
   "metadata": {
    "collapsed": false
   },
   "source": [
    "Train `VGG4` on CIFAR-10 in the cell below for `15` epochs and use a batch size of `128`.\n",
    "\n",
    "*You should anticipate 10-20 secs per epoch of training. Thus, the whole training session should take ~2.5-5 mins. If this is far off, please seek help.*\n",
    "\n",
    "Plot the training and val loss over epochs. Put test acc in the title. *If everything is working, your training and validation loss should steadily decrease then start to plateau by the end of training.*"
   ]
  },
  {
   "cell_type": "code",
   "execution_count": 18,
   "id": "8b0167",
   "metadata": {
    "collapsed": false
   },
   "outputs": [
    {
     "name": "stdout",
     "output_type": "stream",
     "text": [
      "---------------------------------------------------------------------------\n",
      "Dense layer output(output_layer) shape: [1, 10]\n",
      "Dropout layer output(dropout_layer_3) shape: [1, 128]\n",
      "Dense layer output(dense_layer_3) shape: [1, 128]\n",
      "Flatten layer output(flatten_layer_2) shape: [1, 16384]\n",
      "MaxPool2D layer output(max_pool_layer_1) shape: [1, 16, 16, 64]\n",
      "Conv2D layer output(conv_layer_2) shape: [1, 32, 32, 64]\n",
      "Conv2D layer output(conv_layer_1) shape: [1, 32, 32, 64]\n",
      "---------------------------------------------------------------------------\n"
     ]
    },
    {
     "name": "stdout",
     "output_type": "stream",
     "text": [
      "Epoch 1/15: Train Loss: 1.8677, Val Loss: 1.5623, Val Acc: 0.4285, Time: 4.18s\n"
     ]
    },
    {
     "name": "stdout",
     "output_type": "stream",
     "text": [
      "Epoch 2/15: Train Loss: 1.5414, Val Loss: 1.3927, Val Acc: 0.5010, Time: 2.38s\n"
     ]
    },
    {
     "name": "stdout",
     "output_type": "stream",
     "text": [
      "Epoch 3/15: Train Loss: 1.4064, Val Loss: 1.2719, Val Acc: 0.5417, Time: 2.38s\n"
     ]
    },
    {
     "name": "stdout",
     "output_type": "stream",
     "text": [
      "Epoch 4/15: Train Loss: 1.3024, Val Loss: 1.1707, Val Acc: 0.5879, Time: 2.38s\n"
     ]
    },
    {
     "name": "stdout",
     "output_type": "stream",
     "text": [
      "Epoch 5/15: Train Loss: 1.2139, Val Loss: 1.1319, Val Acc: 0.6062, Time: 2.39s\n"
     ]
    },
    {
     "name": "stdout",
     "output_type": "stream",
     "text": [
      "Epoch 6/15: Train Loss: 1.1595, Val Loss: 1.0811, Val Acc: 0.6212, Time: 2.40s\n"
     ]
    },
    {
     "name": "stdout",
     "output_type": "stream",
     "text": [
      "Epoch 7/15: Train Loss: 1.1152, Val Loss: 1.0665, Val Acc: 0.6254, Time: 2.39s\n"
     ]
    },
    {
     "name": "stdout",
     "output_type": "stream",
     "text": [
      "Epoch 8/15: Train Loss: 1.0588, Val Loss: 1.0395, Val Acc: 0.6410, Time: 2.40s\n"
     ]
    },
    {
     "name": "stdout",
     "output_type": "stream",
     "text": [
      "Epoch 9/15: Train Loss: 1.0197, Val Loss: 1.0166, Val Acc: 0.6412, Time: 2.40s\n"
     ]
    },
    {
     "name": "stdout",
     "output_type": "stream",
     "text": [
      "Epoch 10/15: Train Loss: 0.9975, Val Loss: 1.0091, Val Acc: 0.6488, Time: 2.40s\n"
     ]
    },
    {
     "name": "stdout",
     "output_type": "stream",
     "text": [
      "Epoch 11/15: Train Loss: 0.9730, Val Loss: 1.0111, Val Acc: 0.6492, Time: 2.40s\n"
     ]
    },
    {
     "name": "stdout",
     "output_type": "stream",
     "text": [
      "Epoch 12/15: Train Loss: 0.9443, Val Loss: 0.9974, Val Acc: 0.6514, Time: 2.40s\n"
     ]
    },
    {
     "name": "stdout",
     "output_type": "stream",
     "text": [
      "Epoch 13/15: Train Loss: 0.9115, Val Loss: 0.9962, Val Acc: 0.6544, Time: 2.40s\n"
     ]
    },
    {
     "name": "stdout",
     "output_type": "stream",
     "text": [
      "Epoch 14/15: Train Loss: 0.8931, Val Loss: 0.9828, Val Acc: 0.6619, Time: 2.41s\n"
     ]
    },
    {
     "name": "stdout",
     "output_type": "stream",
     "text": [
      "Epoch 15/15: Train Loss: 0.8768, Val Loss: 0.9964, Val Acc: 0.6611, Time: 2.43s\n",
      "Finished training after 15 epochs!\n",
      "\n",
      "Evaluating on test set...\n"
     ]
    },
    {
     "name": "stdout",
     "output_type": "stream",
     "text": [
      "Final test accuracy: 0.6454\n"
     ]
    }
   ],
   "source": [
    "# KEEP THIS SEED\n",
    "tf.random.set_seed(0)\n",
    "\n",
    "vgg4 = VGG4(C=10, input_feats_shape=x_train.shape[1:])\n",
    "vgg4.compile()\n",
    "\n",
    "train_loss_hist, val_loss_hist, val_acc_hist, e = vgg4.fit(x_train, y_train, x_val, y_val, batch_size = 128, max_epochs=15)\n",
    "\n",
    "print(\"\\nEvaluating on test set...\")\n",
    "test_acc = vgg4.evaluate(x_test, y_test, 128)\n",
    "print(f\"Final test accuracy: {test_acc[0]:.4f}\")"
   ]
  },
  {
   "cell_type": "code",
   "execution_count": 19,
   "id": "14f568",
   "metadata": {
    "collapsed": false
   },
   "outputs": [
    {
     "data": {
      "image/png": "[encoded data removed]",
      "text/plain": [
       "<Figure size 1000x600 with 1 Axes>"
      ]
     },
     "execution_count": 19,
     "metadata": {
     },
     "output_type": "execute_result"
    }
   ],
   "source": [
    "import matplotlib.pyplot as plt\n",
    "\n",
    "# plot\n",
    "plt.figure(figsize=(10, 6))\n",
    "plt.plot(range(1, len(train_loss_hist) + 1), train_loss_hist, 'b-', label='Training Loss')\n",
    "plt.plot(range(1, len(val_loss_hist) + 1), val_loss_hist, 'r-', label='Validation Loss')\n",
    "\n",
    "# add labels and title\n",
    "plt.xlabel('Epoch')\n",
    "plt.ylabel('Loss')\n",
    "plt.title(f'VGG4 Training on CIFAR-10 (Test Acc: {test_acc[0]*100:.2f}%)')\n",
    "plt.legend()\n",
    "plt.grid(True)\n",
    "\n",
    "# show plot\n",
    "plt.show()"
   ]
  },
  {
   "cell_type": "markdown",
   "id": "3e0150",
   "metadata": {
    "collapsed": false
   },
   "source": [
    "### 4e. Experiment: Effect of batch size on runtime and accuracy\n",
    "\n",
    "To develop your intuition about how the choice of batch size generally affects runtime and accuracy on a dataset like CIFAR-10, run an experiment in which fresh `VGG4` nets are trained for `15` epochs with one of the following batch sizes:<br/>\n",
    "`[128, 256, 512, 1024, 2048]`. After each training run, record the test accuracy and runtime.\n",
    "\n",
    "Create two plots:\n",
    "1. The test accuracy (y axis) as a function of the batch size (x axis). There should be 5 markers joined by a single curve.\n",
    "2. The runtime (y axis) as a function of the batch size (x axis). There should be 5 markers joined by a single curve.\n",
    "\n",
    "**Note:**\n",
    "- Your `fit` method prints the runtime per epoch, but in this task you should record the total runtime over training and prediction. (in seconds). To do this, it may make sense to use the time module to record the total time in the notebook cell below.\n",
    "- You should be running this on the GPU!"
   ]
  },
  {
   "cell_type": "code",
   "execution_count": 20,
   "id": "08fcbd",
   "metadata": {
    "collapsed": false
   },
   "outputs": [
   ],
   "source": [
    "import time"
   ]
  },
  {
   "cell_type": "code",
   "execution_count": 23,
   "id": "45b6ac",
   "metadata": {
    "collapsed": false
   },
   "outputs": [
    {
     "name": "stdout",
     "output_type": "stream",
     "text": [
      "\n",
      "Testing batch size: 128\n",
      "--------------------------------------------------\n",
      "---------------------------------------------------------------------------\n",
      "Dense layer output(output_layer) shape: [1, 10]\n",
      "Dropout layer output(dropout_layer_3) shape: [1, 128]\n",
      "Dense layer output(dense_layer_3) shape: [1, 128]\n",
      "Flatten layer output(flatten_layer_2) shape: [1, 16384]\n",
      "MaxPool2D layer output(max_pool_layer_1) shape: [1, 16, 16, 64]\n",
      "Conv2D layer output(conv_layer_2) shape: [1, 32, 32, 64]\n",
      "Conv2D layer output(conv_layer_1) shape: [1, 32, 32, 64]\n",
      "---------------------------------------------------------------------------\n"
     ]
    },
    {
     "name": "stdout",
     "output_type": "stream",
     "text": [
      "Epoch 1/15: Train Loss: 1.8677, Val Loss: 1.5623, Val Acc: 0.4285, Time: 4.20s\n"
     ]
    },
    {
     "name": "stdout",
     "output_type": "stream",
     "text": [
      "Epoch 2/15: Train Loss: 1.5414, Val Loss: 1.3927, Val Acc: 0.5010, Time: 2.40s\n"
     ]
    },
    {
     "name": "stdout",
     "output_type": "stream",
     "text": [
      "Epoch 3/15: Train Loss: 1.4064, Val Loss: 1.2719, Val Acc: 0.5417, Time: 2.39s\n"
     ]
    },
    {
     "name": "stdout",
     "output_type": "stream",
     "text": [
      "Epoch 4/15: Train Loss: 1.3024, Val Loss: 1.1707, Val Acc: 0.5879, Time: 2.39s\n"
     ]
    },
    {
     "name": "stdout",
     "output_type": "stream",
     "text": [
      "Epoch 5/15: Train Loss: 1.2139, Val Loss: 1.1319, Val Acc: 0.6062, Time: 2.40s\n"
     ]
    },
    {
     "name": "stdout",
     "output_type": "stream",
     "text": [
      "Epoch 6/15: Train Loss: 1.1595, Val Loss: 1.0811, Val Acc: 0.6212, Time: 2.41s\n"
     ]
    },
    {
     "name": "stdout",
     "output_type": "stream",
     "text": [
      "Epoch 7/15: Train Loss: 1.1152, Val Loss: 1.0665, Val Acc: 0.6254, Time: 2.43s\n"
     ]
    },
    {
     "name": "stdout",
     "output_type": "stream",
     "text": [
      "Epoch 8/15: Train Loss: 1.0588, Val Loss: 1.0395, Val Acc: 0.6410, Time: 2.42s\n"
     ]
    },
    {
     "name": "stdout",
     "output_type": "stream",
     "text": [
      "Epoch 9/15: Train Loss: 1.0197, Val Loss: 1.0166, Val Acc: 0.6412, Time: 2.40s\n"
     ]
    },
    {
     "name": "stdout",
     "output_type": "stream",
     "text": [
      "Epoch 10/15: Train Loss: 0.9975, Val Loss: 1.0091, Val Acc: 0.6488, Time: 2.40s\n"
     ]
    },
    {
     "name": "stdout",
     "output_type": "stream",
     "text": [
      "Epoch 11/15: Train Loss: 0.9730, Val Loss: 1.0111, Val Acc: 0.6492, Time: 2.40s\n"
     ]
    },
    {
     "name": "stdout",
     "output_type": "stream",
     "text": [
      "Epoch 12/15: Train Loss: 0.9443, Val Loss: 0.9974, Val Acc: 0.6514, Time: 2.40s\n"
     ]
    },
    {
     "name": "stdout",
     "output_type": "stream",
     "text": [
      "Epoch 13/15: Train Loss: 0.9115, Val Loss: 0.9962, Val Acc: 0.6544, Time: 2.42s\n"
     ]
    },
    {
     "name": "stdout",
     "output_type": "stream",
     "text": [
      "Epoch 14/15: Train Loss: 0.8931, Val Loss: 0.9828, Val Acc: 0.6619, Time: 2.41s\n"
     ]
    },
    {
     "name": "stdout",
     "output_type": "stream",
     "text": [
      "Epoch 15/15: Train Loss: 0.8768, Val Loss: 0.9964, Val Acc: 0.6611, Time: 2.41s\n",
      "Finished training after 15 epochs!\n"
     ]
    },
    {
     "name": "stdout",
     "output_type": "stream",
     "text": [
      "Batch Size: 128\n",
      "Training Time: 37.88 seconds\n",
      "Final test accuracy: 0.6454\n",
      "\n",
      "Testing batch size: 256\n",
      "--------------------------------------------------\n",
      "---------------------------------------------------------------------------\n",
      "Dense layer output(output_layer) shape: [1, 10]\n",
      "Dropout layer output(dropout_layer_3) shape: [1, 128]\n",
      "Dense layer output(dense_layer_3) shape: [1, 128]\n",
      "Flatten layer output(flatten_layer_2) shape: [1, 16384]\n",
      "MaxPool2D layer output(max_pool_layer_1) shape: [1, 16, 16, 64]\n",
      "Conv2D layer output(conv_layer_2) shape: [1, 32, 32, 64]\n",
      "Conv2D layer output(conv_layer_1) shape: [1, 32, 32, 64]\n",
      "---------------------------------------------------------------------------\n"
     ]
    },
    {
     "name": "stdout",
     "output_type": "stream",
     "text": [
      "Epoch 1/15: Train Loss: 1.9534, Val Loss: 1.6627, Val Acc: 0.3954, Time: 4.62s\n"
     ]
    },
    {
     "name": "stdout",
     "output_type": "stream",
     "text": [
      "Epoch 2/15: Train Loss: 1.6605, Val Loss: 1.5161, Val Acc: 0.4630, Time: 2.50s\n"
     ]
    },
    {
     "name": "stdout",
     "output_type": "stream",
     "text": [
      "Epoch 3/15: Train Loss: 1.5145, Val Loss: 1.3619, Val Acc: 0.5204, Time: 2.48s\n"
     ]
    },
    {
     "name": "stdout",
     "output_type": "stream",
     "text": [
      "Epoch 4/15: Train Loss: 1.3939, Val Loss: 1.2538, Val Acc: 0.5489, Time: 2.49s\n"
     ]
    },
    {
     "name": "stdout",
     "output_type": "stream",
     "text": [
      "Epoch 5/15: Train Loss: 1.3005, Val Loss: 1.1816, Val Acc: 0.5814, Time: 2.48s\n"
     ]
    },
    {
     "name": "stdout",
     "output_type": "stream",
     "text": [
      "Epoch 6/15: Train Loss: 1.2394, Val Loss: 1.1555, Val Acc: 0.5898, Time: 2.48s\n"
     ]
    },
    {
     "name": "stdout",
     "output_type": "stream",
     "text": [
      "Epoch 7/15: Train Loss: 1.1722, Val Loss: 1.0970, Val Acc: 0.6059, Time: 2.48s\n"
     ]
    },
    {
     "name": "stdout",
     "output_type": "stream",
     "text": [
      "Epoch 8/15: Train Loss: 1.1132, Val Loss: 1.0625, Val Acc: 0.6277, Time: 2.47s\n"
     ]
    },
    {
     "name": "stdout",
     "output_type": "stream",
     "text": [
      "Epoch 9/15: Train Loss: 1.0497, Val Loss: 1.0417, Val Acc: 0.6303, Time: 2.48s\n"
     ]
    },
    {
     "name": "stdout",
     "output_type": "stream",
     "text": [
      "Epoch 10/15: Train Loss: 1.0151, Val Loss: 1.0200, Val Acc: 0.6447, Time: 2.49s\n"
     ]
    },
    {
     "name": "stdout",
     "output_type": "stream",
     "text": [
      "Epoch 11/15: Train Loss: 0.9682, Val Loss: 1.0125, Val Acc: 0.6447, Time: 2.48s\n"
     ]
    },
    {
     "name": "stdout",
     "output_type": "stream",
     "text": [
      "Epoch 12/15: Train Loss: 0.9341, Val Loss: 0.9743, Val Acc: 0.6581, Time: 2.47s\n"
     ]
    },
    {
     "name": "stdout",
     "output_type": "stream",
     "text": [
      "Epoch 13/15: Train Loss: 0.8843, Val Loss: 0.9722, Val Acc: 0.6643, Time: 2.47s\n"
     ]
    },
    {
     "name": "stdout",
     "output_type": "stream",
     "text": [
      "Epoch 14/15: Train Loss: 0.8388, Val Loss: 0.9605, Val Acc: 0.6676, Time: 2.47s\n"
     ]
    },
    {
     "name": "stdout",
     "output_type": "stream",
     "text": [
      "Epoch 15/15: Train Loss: 0.8148, Val Loss: 0.9579, Val Acc: 0.6737, Time: 2.48s\n",
      "Finished training after 15 epochs!\n"
     ]
    },
    {
     "name": "stdout",
     "output_type": "stream",
     "text": [
      "Batch Size: 256\n",
      "Training Time: 39.32 seconds\n",
      "Final test accuracy: 0.6561\n",
      "\n",
      "Testing batch size: 512\n",
      "--------------------------------------------------\n",
      "---------------------------------------------------------------------------\n",
      "Dense layer output(output_layer) shape: [1, 10]\n",
      "Dropout layer output(dropout_layer_3) shape: [1, 128]\n",
      "Dense layer output(dense_layer_3) shape: [1, 128]\n",
      "Flatten layer output(flatten_layer_2) shape: [1, 16384]\n",
      "MaxPool2D layer output(max_pool_layer_1) shape: [1, 16, 16, 64]\n",
      "Conv2D layer output(conv_layer_2) shape: [1, 32, 32, 64]\n",
      "Conv2D layer output(conv_layer_1) shape: [1, 32, 32, 64]\n",
      "---------------------------------------------------------------------------\n"
     ]
    },
    {
     "name": "stdout",
     "output_type": "stream",
     "text": [
      "Epoch 1/15: Train Loss: 2.0439, Val Loss: 1.7687, Val Acc: 0.3750, Time: 4.07s\n"
     ]
    },
    {
     "name": "stdout",
     "output_type": "stream",
     "text": [
      "Epoch 2/15: Train Loss: 1.7300, Val Loss: 1.5759, Val Acc: 0.4266, Time: 2.34s\n"
     ]
    },
    {
     "name": "stdout",
     "output_type": "stream",
     "text": [
      "Epoch 3/15: Train Loss: 1.5497, Val Loss: 1.4149, Val Acc: 0.4920, Time: 2.33s\n"
     ]
    },
    {
     "name": "stdout",
     "output_type": "stream",
     "text": [
      "Epoch 4/15: Train Loss: 1.4465, Val Loss: 1.3214, Val Acc: 0.5234, Time: 2.34s\n"
     ]
    },
    {
     "name": "stdout",
     "output_type": "stream",
     "text": [
      "Epoch 5/15: Train Loss: 1.3517, Val Loss: 1.2363, Val Acc: 0.5590, Time: 2.34s\n"
     ]
    },
    {
     "name": "stdout",
     "output_type": "stream",
     "text": [
      "Epoch 6/15: Train Loss: 1.2935, Val Loss: 1.2035, Val Acc: 0.5616, Time: 2.34s\n"
     ]
    },
    {
     "name": "stdout",
     "output_type": "stream",
     "text": [
      "Epoch 7/15: Train Loss: 1.2416, Val Loss: 1.1747, Val Acc: 0.5760, Time: 2.35s\n"
     ]
    },
    {
     "name": "stdout",
     "output_type": "stream",
     "text": [
      "Epoch 8/15: Train Loss: 1.1822, Val Loss: 1.1176, Val Acc: 0.6005, Time: 2.34s\n"
     ]
    },
    {
     "name": "stdout",
     "output_type": "stream",
     "text": [
      "Epoch 9/15: Train Loss: 1.1314, Val Loss: 1.0892, Val Acc: 0.6057, Time: 2.33s\n"
     ]
    },
    {
     "name": "stdout",
     "output_type": "stream",
     "text": [
      "Epoch 10/15: Train Loss: 1.0883, Val Loss: 1.0613, Val Acc: 0.6233, Time: 2.34s\n"
     ]
    },
    {
     "name": "stdout",
     "output_type": "stream",
     "text": [
      "Epoch 11/15: Train Loss: 1.0425, Val Loss: 1.0369, Val Acc: 0.6315, Time: 2.34s\n"
     ]
    },
    {
     "name": "stdout",
     "output_type": "stream",
     "text": [
      "Epoch 12/15: Train Loss: 1.0066, Val Loss: 1.0104, Val Acc: 0.6376, Time: 2.35s\n"
     ]
    },
    {
     "name": "stdout",
     "output_type": "stream",
     "text": [
      "Epoch 13/15: Train Loss: 0.9529, Val Loss: 0.9922, Val Acc: 0.6504, Time: 2.35s\n"
     ]
    },
    {
     "name": "stdout",
     "output_type": "stream",
     "text": [
      "Epoch 14/15: Train Loss: 0.9103, Val Loss: 0.9738, Val Acc: 0.6612, Time: 2.35s\n"
     ]
    },
    {
     "name": "stdout",
     "output_type": "stream",
     "text": [
      "Epoch 15/15: Train Loss: 0.8793, Val Loss: 0.9506, Val Acc: 0.6586, Time: 2.34s\n",
      "Finished training after 15 epochs!\n",
      "Batch Size: 512\n",
      "Training Time: 36.86 seconds\n",
      "Final test accuracy: 0.6562\n",
      "\n",
      "Testing batch size: 1024\n",
      "--------------------------------------------------\n"
     ]
    },
    {
     "name": "stdout",
     "output_type": "stream",
     "text": [
      "---------------------------------------------------------------------------\n",
      "Dense layer output(output_layer) shape: [1, 10]\n",
      "Dropout layer output(dropout_layer_3) shape: [1, 128]\n",
      "Dense layer output(dense_layer_3) shape: [1, 128]\n",
      "Flatten layer output(flatten_layer_2) shape: [1, 16384]\n",
      "MaxPool2D layer output(max_pool_layer_1) shape: [1, 16, 16, 64]\n",
      "Conv2D layer output(conv_layer_2) shape: [1, 32, 32, 64]\n",
      "Conv2D layer output(conv_layer_1) shape: [1, 32, 32, 64]\n",
      "---------------------------------------------------------------------------\n"
     ]
    },
    {
     "name": "stdout",
     "output_type": "stream",
     "text": [
      "Epoch 1/15: Train Loss: 2.1502, Val Loss: 1.9386, Val Acc: 0.2974, Time: 4.01s\n"
     ]
    },
    {
     "name": "stdout",
     "output_type": "stream",
     "text": [
      "Epoch 2/15: Train Loss: 1.8570, Val Loss: 1.7046, Val Acc: 0.3928, Time: 2.29s\n"
     ]
    },
    {
     "name": "stdout",
     "output_type": "stream",
     "text": [
      "Epoch 3/15: Train Loss: 1.7058, Val Loss: 1.6028, Val Acc: 0.4180, Time: 2.30s\n"
     ]
    },
    {
     "name": "stdout",
     "output_type": "stream",
     "text": [
      "Epoch 4/15: Train Loss: 1.6357, Val Loss: 1.5228, Val Acc: 0.4590, Time: 2.30s\n"
     ]
    },
    {
     "name": "stdout",
     "output_type": "stream",
     "text": [
      "Epoch 5/15: Train Loss: 1.5604, Val Loss: 1.4473, Val Acc: 0.4885, Time: 2.30s\n"
     ]
    },
    {
     "name": "stdout",
     "output_type": "stream",
     "text": [
      "Epoch 6/15: Train Loss: 1.4906, Val Loss: 1.3836, Val Acc: 0.5024, Time: 2.29s\n"
     ]
    },
    {
     "name": "stdout",
     "output_type": "stream",
     "text": [
      "Epoch 7/15: Train Loss: 1.4140, Val Loss: 1.2942, Val Acc: 0.5305, Time: 2.30s\n"
     ]
    },
    {
     "name": "stdout",
     "output_type": "stream",
     "text": [
      "Epoch 8/15: Train Loss: 1.3303, Val Loss: 1.2354, Val Acc: 0.5547, Time: 2.31s\n"
     ]
    },
    {
     "name": "stdout",
     "output_type": "stream",
     "text": [
      "Epoch 9/15: Train Loss: 1.2682, Val Loss: 1.1879, Val Acc: 0.5828, Time: 2.32s\n"
     ]
    },
    {
     "name": "stdout",
     "output_type": "stream",
     "text": [
      "Epoch 10/15: Train Loss: 1.2169, Val Loss: 1.1247, Val Acc: 0.6062, Time: 2.31s\n"
     ]
    },
    {
     "name": "stdout",
     "output_type": "stream",
     "text": [
      "Epoch 11/15: Train Loss: 1.1702, Val Loss: 1.1156, Val Acc: 0.6038, Time: 2.31s\n"
     ]
    },
    {
     "name": "stdout",
     "output_type": "stream",
     "text": [
      "Epoch 12/15: Train Loss: 1.1364, Val Loss: 1.0839, Val Acc: 0.6135, Time: 2.31s\n"
     ]
    },
    {
     "name": "stdout",
     "output_type": "stream",
     "text": [
      "Epoch 13/15: Train Loss: 1.0932, Val Loss: 1.0503, Val Acc: 0.6267, Time: 2.31s\n"
     ]
    },
    {
     "name": "stdout",
     "output_type": "stream",
     "text": [
      "Epoch 14/15: Train Loss: 1.0522, Val Loss: 1.0369, Val Acc: 0.6299, Time: 2.30s\n"
     ]
    },
    {
     "name": "stdout",
     "output_type": "stream",
     "text": [
      "Epoch 15/15: Train Loss: 1.0193, Val Loss: 1.0080, Val Acc: 0.6372, Time: 2.31s\n",
      "Finished training after 15 epochs!\n",
      "Batch Size: 1024\n",
      "Training Time: 36.26 seconds\n",
      "Final test accuracy: 0.6330\n",
      "\n",
      "Testing batch size: 2048\n",
      "--------------------------------------------------\n",
      "---------------------------------------------------------------------------\n",
      "Dense layer output(output_layer) shape: [1, 10]\n",
      "Dropout layer output(dropout_layer_3) shape: [1, 128]\n",
      "Dense layer output(dense_layer_3) shape: [1, 128]\n",
      "Flatten layer output(flatten_layer_2) shape: [1, 16384]\n",
      "MaxPool2D layer output(max_pool_layer_1) shape: [1, 16, 16, 64]\n",
      "Conv2D layer output(conv_layer_2) shape: [1, 32, 32, 64]\n",
      "Conv2D layer output(conv_layer_1) shape: [1, 32, 32, 64]\n",
      "---------------------------------------------------------------------------\n"
     ]
    },
    {
     "name": "stdout",
     "output_type": "stream",
     "text": [
      "Epoch 1/15: Train Loss: 2.2613, Val Loss: 2.0993, Val Acc: 0.2310, Time: 4.02s\n"
     ]
    },
    {
     "name": "stdout",
     "output_type": "stream",
     "text": [
      "Epoch 2/15: Train Loss: 1.9981, Val Loss: 1.8773, Val Acc: 0.3215, Time: 2.26s\n"
     ]
    },
    {
     "name": "stdout",
     "output_type": "stream",
     "text": [
      "Epoch 3/15: Train Loss: 1.8186, Val Loss: 1.7271, Val Acc: 0.3926, Time: 2.26s\n"
     ]
    },
    {
     "name": "stdout",
     "output_type": "stream",
     "text": [
      "Epoch 4/15: Train Loss: 1.7364, Val Loss: 1.6445, Val Acc: 0.4087, Time: 2.26s\n"
     ]
    },
    {
     "name": "stdout",
     "output_type": "stream",
     "text": [
      "Epoch 5/15: Train Loss: 1.6738, Val Loss: 1.5909, Val Acc: 0.4302, Time: 2.26s\n"
     ]
    },
    {
     "name": "stdout",
     "output_type": "stream",
     "text": [
      "Epoch 6/15: Train Loss: 1.6303, Val Loss: 1.5449, Val Acc: 0.4561, Time: 2.26s\n"
     ]
    },
    {
     "name": "stdout",
     "output_type": "stream",
     "text": [
      "Epoch 7/15: Train Loss: 1.5662, Val Loss: 1.4650, Val Acc: 0.4780, Time: 2.26s\n"
     ]
    },
    {
     "name": "stdout",
     "output_type": "stream",
     "text": [
      "Epoch 8/15: Train Loss: 1.5107, Val Loss: 1.4182, Val Acc: 0.4919, Time: 2.28s\n"
     ]
    },
    {
     "name": "stdout",
     "output_type": "stream",
     "text": [
      "Epoch 9/15: Train Loss: 1.4572, Val Loss: 1.3826, Val Acc: 0.5015, Time: 2.28s\n"
     ]
    },
    {
     "name": "stdout",
     "output_type": "stream",
     "text": [
      "Epoch 10/15: Train Loss: 1.4119, Val Loss: 1.3371, Val Acc: 0.5190, Time: 2.26s\n"
     ]
    },
    {
     "name": "stdout",
     "output_type": "stream",
     "text": [
      "Epoch 11/15: Train Loss: 1.3728, Val Loss: 1.3239, Val Acc: 0.5227, Time: 2.26s\n"
     ]
    },
    {
     "name": "stdout",
     "output_type": "stream",
     "text": [
      "Epoch 12/15: Train Loss: 1.3509, Val Loss: 1.2635, Val Acc: 0.5586, Time: 2.26s\n"
     ]
    },
    {
     "name": "stdout",
     "output_type": "stream",
     "text": [
      "Epoch 13/15: Train Loss: 1.3018, Val Loss: 1.2355, Val Acc: 0.5603, Time: 2.26s\n"
     ]
    },
    {
     "name": "stdout",
     "output_type": "stream",
     "text": [
      "Epoch 14/15: Train Loss: 1.2680, Val Loss: 1.1988, Val Acc: 0.5740, Time: 2.26s\n"
     ]
    },
    {
     "name": "stdout",
     "output_type": "stream",
     "text": [
      "Epoch 15/15: Train Loss: 1.2345, Val Loss: 1.1762, Val Acc: 0.5825, Time: 2.28s\n",
      "Finished training after 15 epochs!\n",
      "Batch Size: 2048\n",
      "Training Time: 35.70 seconds\n",
      "Final test accuracy: 0.5881\n"
     ]
    },
    {
     "data": {
      "image/png": "[encoded data removed]",
      "text/plain": [
       "<Figure size 1500x500 with 2 Axes>"
      ]
     },
     "execution_count": 23,
     "metadata": {
     },
     "output_type": "execute_result"
    },
    {
     "name": "stdout",
     "output_type": "stream",
     "text": [
      "\n",
      "Numerical Results:\n",
      "Batch Size: 128\n",
      "Training Time: 37.88s\n",
      "Test Accuracy: 0.6454\n",
      "\n",
      "Batch Size: 256\n",
      "Training Time: 39.32s\n",
      "Test Accuracy: 0.6561\n",
      "\n",
      "Batch Size: 512\n",
      "Training Time: 36.86s\n",
      "Test Accuracy: 0.6562\n",
      "\n",
      "Batch Size: 1024\n",
      "Training Time: 36.26s\n",
      "Test Accuracy: 0.6330\n",
      "\n",
      "Batch Size: 2048\n",
      "Training Time: 35.70s\n",
      "Test Accuracy: 0.5881\n",
      "\n"
     ]
    }
   ],
   "source": [
    "import time\n",
    "import numpy as np\n",
    "import matplotlib.pyplot as plt\n",
    "\n",
    "# KEEP THIS SEED\n",
    "tf.random.set_seed(0)\n",
    "\n",
    "batch_sizes = [128, 256, 512, 1024, 2048]\n",
    "results = {\n",
    "    'batch_sizes': batch_sizes,\n",
    "    'train_times': [],\n",
    "    'eval_times': [],\n",
    "    'accuracies': []\n",
    "}\n",
    "\n",
    "for batch_size in batch_sizes:\n",
    "    print(f\"\\nTesting batch size: {batch_size}\")\n",
    "    print(\"-\" * 50)\n",
    "    \n",
    "    # Initialize model\n",
    "    vgg4 = VGG4(C=10, input_feats_shape=x_train.shape[1:])\n",
    "    vgg4.compile()\n",
    "    \n",
    "    # Training time\n",
    "    start_time = time.time()\n",
    "    train_loss_hist, val_loss_hist, val_acc_hist, e = vgg4.fit(\n",
    "        x_train, y_train, x_val, y_val, \n",
    "        batch_size=batch_size,\n",
    "        max_epochs=15\n",
    "    )\n",
    "    train_time = time.time() - start_time\n",
    "    results['train_times'].append(train_time)\n",
    "    \n",
    "    # Evaluation time and accuracy\n",
    "    start_time = time.time()\n",
    "    test_acc = vgg4.evaluate(x_test, y_test, batch_size)\n",
    "    eval_time = time.time() - start_time\n",
    "    results['accuracies'].append(test_acc[0])\n",
    "    \n",
    "    print(f\"Batch Size: {batch_size}\")\n",
    "    print(f\"Training Time: {train_time:.2f} seconds\")\n",
    "    print(f\"Final test accuracy: {test_acc[0]:.4f}\")\n",
    "\n",
    "# Create plots\n",
    "plt.figure(figsize=(15, 5))\n",
    "\n",
    "# Training Time vs Batch Size\n",
    "plt.subplot(1, 3, 1)\n",
    "plt.plot(results['batch_sizes'], results['train_times'], 'b-o')\n",
    "plt.xlabel('Batch Size')\n",
    "plt.ylabel('Training Time (s)')\n",
    "plt.title('Training Time vs Batch Size')\n",
    "\n",
    "# Accuracy vs Batch Size\n",
    "plt.subplot(1, 3, 3)\n",
    "plt.plot(results['batch_sizes'], results['accuracies'], 'g-o')\n",
    "plt.xlabel('Batch Size')\n",
    "plt.ylabel('Test Accuracy')\n",
    "plt.title('Test Accuracy vs Batch Size')\n",
    "\n",
    "plt.tight_layout()\n",
    "plt.show()\n",
    "\n",
    "# Print numerical results for reference\n",
    "print(\"\\nNumerical Results:\")\n",
    "for i, batch_size in enumerate(results['batch_sizes']):\n",
    "    print(f\"Batch Size: {batch_size}\")\n",
    "    print(f\"Training Time: {results['train_times'][i]:.2f}s\")\n",
    "    print(f\"Test Accuracy: {results['accuracies'][i]:.4f}\\n\")"
   ]
  },
  {
   "cell_type": "code",
   "execution_count": 0,
   "id": "6bca87",
   "metadata": {
    "collapsed": false
   },
   "outputs": [
   ],
   "source": [
   ]
  },
  {
   "cell_type": "markdown",
   "id": "c7cc88",
   "metadata": {
    "collapsed": false
   },
   "source": [
    "### 4f. Questions\n",
    "\n",
    "**Question 2:** What do the plots suggest to you about the relationship between batch size and accuracy? Please be specific,citing evidence from your plots.\n",
    "\n",
    "**Question 3:** Do you find this relationship surprising? Why or why not?"
   ]
  },
  {
   "cell_type": "markdown",
   "id": "9ba977",
   "metadata": {
    "collapsed": false
   },
   "source": [
    "**Answer 2:** \n",
    "\n",
    "The plots seem to suggest that a smaller batch size leads to higher accuracy, while larger batch sizes lead to lower accuracy. The top two accuracy scores were from batch sizes of 256 and 512, then the accuracy would decrease each time the batch size increased."
   ]
  },
  {
   "cell_type": "markdown",
   "id": "abd8a1",
   "metadata": {
    "collapsed": false
   },
   "source": [
    "**Answer 3:** \n",
    "\n",
    "I do not find this relationship surprising as smaller batch sizes mean the model must update its weights more frequently, while with larger batch sizes the model updates less frequently per epoch."
   ]
  },
  {
   "cell_type": "code",
   "execution_count": 0,
   "id": "770c35",
   "metadata": {
    "collapsed": false
   },
   "outputs": [
   ],
   "source": [
   ]
  }
 ],
 "metadata": {
  "kernelspec": {
   "argv": [
    "/usr/bin/python3",
    "-m",
    "ipykernel",
    "--HistoryManager.enabled=False",
    "--matplotlib=inline",
    "-c",
    "%config InlineBackend.figure_formats = set(['retina'])\nimport matplotlib; matplotlib.rcParams['figure.figsize'] = (12, 7)",
    "-f",
    "{connection_file}"
   ],
   "display_name": "Python 3 (system-wide)",
   "env": {
   },
   "language": "python",
   "metadata": {
    "cocalc": {
     "description": "Python 3 programming language",
     "priority": 100,
     "url": "https://www.python.org/"
    }
   },
   "name": "python3",
   "resource_dir": "/ext/jupyter/kernels/python3"
  },
  "language_info": {
   "codemirror_mode": {
    "name": "ipython",
    "version": 3
   },
   "file_extension": ".py",
   "mimetype": "text/x-python",
   "name": "python",
   "nbconvert_exporter": "python",
   "pygments_lexer": "ipython3",
   "version": "3.11.5"
  }
 },
 "nbformat": 4,
 "nbformat_minor": 4
}